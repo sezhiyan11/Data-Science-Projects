{
 "cells": [
  {
   "cell_type": "markdown",
   "id": "edff4108",
   "metadata": {},
   "source": [
    "#                                 Regression prediction of store sales:"
   ]
  },
  {
   "cell_type": "markdown",
   "id": "2683517d",
   "metadata": {},
   "source": [
    "The success of any retail store depends upon its sales .More the sales made,more the revenyue.With a good customer service and care the customer too enjoys a good shoppingh experience.This will Lead to more in flow of customers , opening more store branches accross a city/country\n",
    "\n",
    "To enable this,store owners rely heavily on past data to predict future sales.This will help them in strategizing their bussiness models and come up with innovative techniques and ideas to attract customers and set realistic goals.\n",
    "\n",
    "\n",
    "Manymedium to large stores implement this kind to understand trends like which products are getting sold faster ,what are the slow moving products ,impact of store types etc,with new branches of the store , the analysis can get more complex and may also involve stiff competition from other components"
   ]
  },
  {
   "cell_type": "markdown",
   "id": "99507c70",
   "metadata": {},
   "source": [
    " Importing Required Libraries:"
   ]
  },
  {
   "cell_type": "code",
   "execution_count": 1,
   "id": "176e92ad",
   "metadata": {},
   "outputs": [],
   "source": [
    "import numpy as np\n",
    "import pandas as pd\n",
    "import matplotlib.pyplot as plt\n",
    "from sklearn.model_selection import train_test_split\n",
    "from sklearn.preprocessing import StandardScaler,LabelEncoder\n",
    "from sklearn.model_selection import cross_val_score,RepeatedKFold\n",
    "from sklearn.linear_model import LinearRegression\n",
    "from numpy import mean\n",
    "from numpy import std\n",
    "import warnings\n",
    "warnings.filterwarnings(\"ignore\")"
   ]
  },
  {
   "cell_type": "markdown",
   "id": "7f580c64",
   "metadata": {},
   "source": [
    "# Data Importing:"
   ]
  },
  {
   "cell_type": "code",
   "execution_count": 2,
   "id": "91319d4f",
   "metadata": {},
   "outputs": [
    {
     "data": {
      "text/html": [
       "<div>\n",
       "<style scoped>\n",
       "    .dataframe tbody tr th:only-of-type {\n",
       "        vertical-align: middle;\n",
       "    }\n",
       "\n",
       "    .dataframe tbody tr th {\n",
       "        vertical-align: top;\n",
       "    }\n",
       "\n",
       "    .dataframe thead th {\n",
       "        text-align: right;\n",
       "    }\n",
       "</style>\n",
       "<table border=\"1\" class=\"dataframe\">\n",
       "  <thead>\n",
       "    <tr style=\"text-align: right;\">\n",
       "      <th></th>\n",
       "      <th>Item_Identifier</th>\n",
       "      <th>Item_Weight</th>\n",
       "      <th>Item_Fat_Content</th>\n",
       "      <th>Item_Visibility</th>\n",
       "      <th>Item_Type</th>\n",
       "      <th>Item_MRP</th>\n",
       "      <th>Outlet_Identifier</th>\n",
       "      <th>Outlet_Establishment_Year</th>\n",
       "      <th>Outlet_Size</th>\n",
       "      <th>Outlet_Location_Type</th>\n",
       "      <th>Outlet_Type</th>\n",
       "      <th>Item_Outlet_Sales</th>\n",
       "    </tr>\n",
       "  </thead>\n",
       "  <tbody>\n",
       "    <tr>\n",
       "      <th>0</th>\n",
       "      <td>FDA15</td>\n",
       "      <td>9.30</td>\n",
       "      <td>Low Fat</td>\n",
       "      <td>0.016047</td>\n",
       "      <td>Dairy</td>\n",
       "      <td>249.8092</td>\n",
       "      <td>OUT049</td>\n",
       "      <td>1999</td>\n",
       "      <td>Medium</td>\n",
       "      <td>Tier 1</td>\n",
       "      <td>Supermarket Type1</td>\n",
       "      <td>3735.1380</td>\n",
       "    </tr>\n",
       "    <tr>\n",
       "      <th>1</th>\n",
       "      <td>DRC01</td>\n",
       "      <td>5.92</td>\n",
       "      <td>Regular</td>\n",
       "      <td>0.019278</td>\n",
       "      <td>Soft Drinks</td>\n",
       "      <td>48.2692</td>\n",
       "      <td>OUT018</td>\n",
       "      <td>2009</td>\n",
       "      <td>Medium</td>\n",
       "      <td>Tier 3</td>\n",
       "      <td>Supermarket Type2</td>\n",
       "      <td>443.4228</td>\n",
       "    </tr>\n",
       "    <tr>\n",
       "      <th>2</th>\n",
       "      <td>FDN15</td>\n",
       "      <td>17.50</td>\n",
       "      <td>Low Fat</td>\n",
       "      <td>0.016760</td>\n",
       "      <td>Meat</td>\n",
       "      <td>141.6180</td>\n",
       "      <td>OUT049</td>\n",
       "      <td>1999</td>\n",
       "      <td>Medium</td>\n",
       "      <td>Tier 1</td>\n",
       "      <td>Supermarket Type1</td>\n",
       "      <td>2097.2700</td>\n",
       "    </tr>\n",
       "    <tr>\n",
       "      <th>3</th>\n",
       "      <td>FDX07</td>\n",
       "      <td>19.20</td>\n",
       "      <td>Regular</td>\n",
       "      <td>0.074402</td>\n",
       "      <td>Fruits and Vegetables</td>\n",
       "      <td>182.0950</td>\n",
       "      <td>OUT010</td>\n",
       "      <td>1998</td>\n",
       "      <td>Medium</td>\n",
       "      <td>Tier 3</td>\n",
       "      <td>Grocery Store</td>\n",
       "      <td>732.3800</td>\n",
       "    </tr>\n",
       "    <tr>\n",
       "      <th>4</th>\n",
       "      <td>NCD19</td>\n",
       "      <td>8.93</td>\n",
       "      <td>Low Fat</td>\n",
       "      <td>0.064299</td>\n",
       "      <td>Household</td>\n",
       "      <td>53.8614</td>\n",
       "      <td>OUT013</td>\n",
       "      <td>1987</td>\n",
       "      <td>High</td>\n",
       "      <td>Tier 3</td>\n",
       "      <td>Supermarket Type1</td>\n",
       "      <td>994.7052</td>\n",
       "    </tr>\n",
       "  </tbody>\n",
       "</table>\n",
       "</div>"
      ],
      "text/plain": [
       "  Item_Identifier  Item_Weight Item_Fat_Content  Item_Visibility  \\\n",
       "0           FDA15         9.30          Low Fat         0.016047   \n",
       "1           DRC01         5.92          Regular         0.019278   \n",
       "2           FDN15        17.50          Low Fat         0.016760   \n",
       "3           FDX07        19.20          Regular         0.074402   \n",
       "4           NCD19         8.93          Low Fat         0.064299   \n",
       "\n",
       "               Item_Type  Item_MRP Outlet_Identifier  \\\n",
       "0                  Dairy  249.8092            OUT049   \n",
       "1            Soft Drinks   48.2692            OUT018   \n",
       "2                   Meat  141.6180            OUT049   \n",
       "3  Fruits and Vegetables  182.0950            OUT010   \n",
       "4              Household   53.8614            OUT013   \n",
       "\n",
       "   Outlet_Establishment_Year Outlet_Size Outlet_Location_Type  \\\n",
       "0                       1999      Medium               Tier 1   \n",
       "1                       2009      Medium               Tier 3   \n",
       "2                       1999      Medium               Tier 1   \n",
       "3                       1998      Medium               Tier 3   \n",
       "4                       1987        High               Tier 3   \n",
       "\n",
       "         Outlet_Type  Item_Outlet_Sales  \n",
       "0  Supermarket Type1          3735.1380  \n",
       "1  Supermarket Type2           443.4228  \n",
       "2  Supermarket Type1          2097.2700  \n",
       "3      Grocery Store           732.3800  \n",
       "4  Supermarket Type1           994.7052  "
      ]
     },
     "execution_count": 2,
     "metadata": {},
     "output_type": "execute_result"
    }
   ],
   "source": [
    "df = pd.read_csv(r\"C:\\Users\\semmu\\Downloads\\DS3_C6_S1_Regression_StoreSales_Data_Project.csv\")\n",
    "df.head()"
   ]
  },
  {
   "cell_type": "markdown",
   "id": "3c7b997e",
   "metadata": {},
   "source": [
    "# Data Exploration:"
   ]
  },
  {
   "cell_type": "code",
   "execution_count": 3,
   "id": "b78fb5c6",
   "metadata": {},
   "outputs": [
    {
     "data": {
      "text/plain": [
       "(14204, 12)"
      ]
     },
     "execution_count": 3,
     "metadata": {},
     "output_type": "execute_result"
    }
   ],
   "source": [
    "df.shape"
   ]
  },
  {
   "cell_type": "code",
   "execution_count": 4,
   "id": "b541fc81",
   "metadata": {},
   "outputs": [
    {
     "data": {
      "text/plain": [
       "170448"
      ]
     },
     "execution_count": 4,
     "metadata": {},
     "output_type": "execute_result"
    }
   ],
   "source": [
    "df.size"
   ]
  },
  {
   "cell_type": "code",
   "execution_count": 5,
   "id": "02f0b13b",
   "metadata": {},
   "outputs": [
    {
     "name": "stdout",
     "output_type": "stream",
     "text": [
      "<class 'pandas.core.frame.DataFrame'>\n",
      "RangeIndex: 14204 entries, 0 to 14203\n",
      "Data columns (total 12 columns):\n",
      " #   Column                     Non-Null Count  Dtype  \n",
      "---  ------                     --------------  -----  \n",
      " 0   Item_Identifier            14204 non-null  object \n",
      " 1   Item_Weight                14204 non-null  float64\n",
      " 2   Item_Fat_Content           14204 non-null  object \n",
      " 3   Item_Visibility            14204 non-null  float64\n",
      " 4   Item_Type                  14204 non-null  object \n",
      " 5   Item_MRP                   14204 non-null  float64\n",
      " 6   Outlet_Identifier          14204 non-null  object \n",
      " 7   Outlet_Establishment_Year  14204 non-null  int64  \n",
      " 8   Outlet_Size                14204 non-null  object \n",
      " 9   Outlet_Location_Type       14204 non-null  object \n",
      " 10  Outlet_Type                14204 non-null  object \n",
      " 11  Item_Outlet_Sales          8523 non-null   float64\n",
      "dtypes: float64(4), int64(1), object(7)\n",
      "memory usage: 1.3+ MB\n"
     ]
    }
   ],
   "source": [
    "df.info()"
   ]
  },
  {
   "cell_type": "code",
   "execution_count": 6,
   "id": "549f2afc",
   "metadata": {},
   "outputs": [
    {
     "data": {
      "text/plain": [
       "Item_Identifier               object\n",
       "Item_Weight                  float64\n",
       "Item_Fat_Content              object\n",
       "Item_Visibility              float64\n",
       "Item_Type                     object\n",
       "Item_MRP                     float64\n",
       "Outlet_Identifier             object\n",
       "Outlet_Establishment_Year      int64\n",
       "Outlet_Size                   object\n",
       "Outlet_Location_Type          object\n",
       "Outlet_Type                   object\n",
       "Item_Outlet_Sales            float64\n",
       "dtype: object"
      ]
     },
     "execution_count": 6,
     "metadata": {},
     "output_type": "execute_result"
    }
   ],
   "source": [
    "df.dtypes"
   ]
  },
  {
   "cell_type": "markdown",
   "id": "80f19d35",
   "metadata": {},
   "source": [
    "# Data Preprocessing:"
   ]
  },
  {
   "cell_type": "code",
   "execution_count": 7,
   "id": "5a4f684b",
   "metadata": {},
   "outputs": [
    {
     "data": {
      "text/html": [
       "<div>\n",
       "<style scoped>\n",
       "    .dataframe tbody tr th:only-of-type {\n",
       "        vertical-align: middle;\n",
       "    }\n",
       "\n",
       "    .dataframe tbody tr th {\n",
       "        vertical-align: top;\n",
       "    }\n",
       "\n",
       "    .dataframe thead th {\n",
       "        text-align: right;\n",
       "    }\n",
       "</style>\n",
       "<table border=\"1\" class=\"dataframe\">\n",
       "  <thead>\n",
       "    <tr style=\"text-align: right;\">\n",
       "      <th></th>\n",
       "      <th>count</th>\n",
       "      <th>mean</th>\n",
       "      <th>std</th>\n",
       "      <th>min</th>\n",
       "      <th>25%</th>\n",
       "      <th>50%</th>\n",
       "      <th>75%</th>\n",
       "      <th>max</th>\n",
       "    </tr>\n",
       "  </thead>\n",
       "  <tbody>\n",
       "    <tr>\n",
       "      <th>Item_Weight</th>\n",
       "      <td>14204.0</td>\n",
       "      <td>12.793380</td>\n",
       "      <td>4.651716</td>\n",
       "      <td>4.555000</td>\n",
       "      <td>8.710000</td>\n",
       "      <td>12.600000</td>\n",
       "      <td>16.750000</td>\n",
       "      <td>21.350000</td>\n",
       "    </tr>\n",
       "    <tr>\n",
       "      <th>Item_Visibility</th>\n",
       "      <td>14204.0</td>\n",
       "      <td>0.070301</td>\n",
       "      <td>0.048621</td>\n",
       "      <td>0.003575</td>\n",
       "      <td>0.033143</td>\n",
       "      <td>0.062347</td>\n",
       "      <td>0.094037</td>\n",
       "      <td>0.328391</td>\n",
       "    </tr>\n",
       "    <tr>\n",
       "      <th>Item_MRP</th>\n",
       "      <td>14204.0</td>\n",
       "      <td>141.004977</td>\n",
       "      <td>62.086938</td>\n",
       "      <td>31.290000</td>\n",
       "      <td>94.012000</td>\n",
       "      <td>142.247000</td>\n",
       "      <td>185.855600</td>\n",
       "      <td>266.888400</td>\n",
       "    </tr>\n",
       "    <tr>\n",
       "      <th>Outlet_Establishment_Year</th>\n",
       "      <td>14204.0</td>\n",
       "      <td>1997.830681</td>\n",
       "      <td>8.371664</td>\n",
       "      <td>1985.000000</td>\n",
       "      <td>1987.000000</td>\n",
       "      <td>1999.000000</td>\n",
       "      <td>2004.000000</td>\n",
       "      <td>2009.000000</td>\n",
       "    </tr>\n",
       "    <tr>\n",
       "      <th>Item_Outlet_Sales</th>\n",
       "      <td>8523.0</td>\n",
       "      <td>2181.288914</td>\n",
       "      <td>1706.499616</td>\n",
       "      <td>33.290000</td>\n",
       "      <td>834.247400</td>\n",
       "      <td>1794.331000</td>\n",
       "      <td>3101.296400</td>\n",
       "      <td>13086.964800</td>\n",
       "    </tr>\n",
       "  </tbody>\n",
       "</table>\n",
       "</div>"
      ],
      "text/plain": [
       "                             count         mean          std          min  \\\n",
       "Item_Weight                14204.0    12.793380     4.651716     4.555000   \n",
       "Item_Visibility            14204.0     0.070301     0.048621     0.003575   \n",
       "Item_MRP                   14204.0   141.004977    62.086938    31.290000   \n",
       "Outlet_Establishment_Year  14204.0  1997.830681     8.371664  1985.000000   \n",
       "Item_Outlet_Sales           8523.0  2181.288914  1706.499616    33.290000   \n",
       "\n",
       "                                   25%          50%          75%           max  \n",
       "Item_Weight                   8.710000    12.600000    16.750000     21.350000  \n",
       "Item_Visibility               0.033143     0.062347     0.094037      0.328391  \n",
       "Item_MRP                     94.012000   142.247000   185.855600    266.888400  \n",
       "Outlet_Establishment_Year  1987.000000  1999.000000  2004.000000   2009.000000  \n",
       "Item_Outlet_Sales           834.247400  1794.331000  3101.296400  13086.964800  "
      ]
     },
     "execution_count": 7,
     "metadata": {},
     "output_type": "execute_result"
    }
   ],
   "source": [
    "df.describe().T"
   ]
  },
  {
   "cell_type": "code",
   "execution_count": 8,
   "id": "4e9ac127",
   "metadata": {},
   "outputs": [
    {
     "data": {
      "text/plain": [
       "Item_Identifier                 0\n",
       "Item_Weight                     0\n",
       "Item_Fat_Content                0\n",
       "Item_Visibility                 0\n",
       "Item_Type                       0\n",
       "Item_MRP                        0\n",
       "Outlet_Identifier               0\n",
       "Outlet_Establishment_Year       0\n",
       "Outlet_Size                     0\n",
       "Outlet_Location_Type            0\n",
       "Outlet_Type                     0\n",
       "Item_Outlet_Sales            5681\n",
       "dtype: int64"
      ]
     },
     "execution_count": 8,
     "metadata": {},
     "output_type": "execute_result"
    }
   ],
   "source": [
    "df.isnull().sum()"
   ]
  },
  {
   "cell_type": "code",
   "execution_count": 9,
   "id": "91b74e5a",
   "metadata": {},
   "outputs": [],
   "source": [
    "df1=df[df.isna().any(axis=1)]"
   ]
  },
  {
   "cell_type": "code",
   "execution_count": 10,
   "id": "a5199cee",
   "metadata": {},
   "outputs": [
    {
     "data": {
      "text/html": [
       "<div>\n",
       "<style scoped>\n",
       "    .dataframe tbody tr th:only-of-type {\n",
       "        vertical-align: middle;\n",
       "    }\n",
       "\n",
       "    .dataframe tbody tr th {\n",
       "        vertical-align: top;\n",
       "    }\n",
       "\n",
       "    .dataframe thead th {\n",
       "        text-align: right;\n",
       "    }\n",
       "</style>\n",
       "<table border=\"1\" class=\"dataframe\">\n",
       "  <thead>\n",
       "    <tr style=\"text-align: right;\">\n",
       "      <th></th>\n",
       "      <th>Item_Identifier</th>\n",
       "      <th>Item_Weight</th>\n",
       "      <th>Item_Fat_Content</th>\n",
       "      <th>Item_Visibility</th>\n",
       "      <th>Item_Type</th>\n",
       "      <th>Item_MRP</th>\n",
       "      <th>Outlet_Identifier</th>\n",
       "      <th>Outlet_Establishment_Year</th>\n",
       "      <th>Outlet_Size</th>\n",
       "      <th>Outlet_Location_Type</th>\n",
       "      <th>Outlet_Type</th>\n",
       "      <th>Item_Outlet_Sales</th>\n",
       "    </tr>\n",
       "  </thead>\n",
       "  <tbody>\n",
       "    <tr>\n",
       "      <th>8523</th>\n",
       "      <td>FDW58</td>\n",
       "      <td>20.750</td>\n",
       "      <td>Low Fat</td>\n",
       "      <td>0.007565</td>\n",
       "      <td>Snack Foods</td>\n",
       "      <td>107.8622</td>\n",
       "      <td>OUT049</td>\n",
       "      <td>1999</td>\n",
       "      <td>Medium</td>\n",
       "      <td>Tier 1</td>\n",
       "      <td>Supermarket Type1</td>\n",
       "      <td>NaN</td>\n",
       "    </tr>\n",
       "    <tr>\n",
       "      <th>8524</th>\n",
       "      <td>FDW14</td>\n",
       "      <td>8.300</td>\n",
       "      <td>Regular</td>\n",
       "      <td>0.038428</td>\n",
       "      <td>Dairy</td>\n",
       "      <td>87.3198</td>\n",
       "      <td>OUT017</td>\n",
       "      <td>2007</td>\n",
       "      <td>Small</td>\n",
       "      <td>Tier 2</td>\n",
       "      <td>Supermarket Type1</td>\n",
       "      <td>NaN</td>\n",
       "    </tr>\n",
       "    <tr>\n",
       "      <th>8525</th>\n",
       "      <td>NCN55</td>\n",
       "      <td>14.600</td>\n",
       "      <td>Low Fat</td>\n",
       "      <td>0.099575</td>\n",
       "      <td>Others</td>\n",
       "      <td>241.7538</td>\n",
       "      <td>OUT010</td>\n",
       "      <td>1998</td>\n",
       "      <td>Medium</td>\n",
       "      <td>Tier 3</td>\n",
       "      <td>Grocery Store</td>\n",
       "      <td>NaN</td>\n",
       "    </tr>\n",
       "    <tr>\n",
       "      <th>8526</th>\n",
       "      <td>FDQ58</td>\n",
       "      <td>7.315</td>\n",
       "      <td>Low Fat</td>\n",
       "      <td>0.015388</td>\n",
       "      <td>Snack Foods</td>\n",
       "      <td>155.0340</td>\n",
       "      <td>OUT017</td>\n",
       "      <td>2007</td>\n",
       "      <td>Small</td>\n",
       "      <td>Tier 2</td>\n",
       "      <td>Supermarket Type1</td>\n",
       "      <td>NaN</td>\n",
       "    </tr>\n",
       "    <tr>\n",
       "      <th>8527</th>\n",
       "      <td>FDY38</td>\n",
       "      <td>13.600</td>\n",
       "      <td>Regular</td>\n",
       "      <td>0.118599</td>\n",
       "      <td>Dairy</td>\n",
       "      <td>234.2300</td>\n",
       "      <td>OUT027</td>\n",
       "      <td>1985</td>\n",
       "      <td>Medium</td>\n",
       "      <td>Tier 3</td>\n",
       "      <td>Supermarket Type3</td>\n",
       "      <td>NaN</td>\n",
       "    </tr>\n",
       "    <tr>\n",
       "      <th>...</th>\n",
       "      <td>...</td>\n",
       "      <td>...</td>\n",
       "      <td>...</td>\n",
       "      <td>...</td>\n",
       "      <td>...</td>\n",
       "      <td>...</td>\n",
       "      <td>...</td>\n",
       "      <td>...</td>\n",
       "      <td>...</td>\n",
       "      <td>...</td>\n",
       "      <td>...</td>\n",
       "      <td>...</td>\n",
       "    </tr>\n",
       "    <tr>\n",
       "      <th>14199</th>\n",
       "      <td>FDB58</td>\n",
       "      <td>10.500</td>\n",
       "      <td>Regular</td>\n",
       "      <td>0.013496</td>\n",
       "      <td>Snack Foods</td>\n",
       "      <td>141.3154</td>\n",
       "      <td>OUT046</td>\n",
       "      <td>1997</td>\n",
       "      <td>Small</td>\n",
       "      <td>Tier 1</td>\n",
       "      <td>Supermarket Type1</td>\n",
       "      <td>NaN</td>\n",
       "    </tr>\n",
       "    <tr>\n",
       "      <th>14200</th>\n",
       "      <td>FDD47</td>\n",
       "      <td>7.600</td>\n",
       "      <td>Regular</td>\n",
       "      <td>0.142991</td>\n",
       "      <td>Starchy Foods</td>\n",
       "      <td>169.1448</td>\n",
       "      <td>OUT018</td>\n",
       "      <td>2009</td>\n",
       "      <td>Medium</td>\n",
       "      <td>Tier 3</td>\n",
       "      <td>Supermarket Type2</td>\n",
       "      <td>NaN</td>\n",
       "    </tr>\n",
       "    <tr>\n",
       "      <th>14201</th>\n",
       "      <td>NCO17</td>\n",
       "      <td>10.000</td>\n",
       "      <td>Low Fat</td>\n",
       "      <td>0.073529</td>\n",
       "      <td>Health and Hygiene</td>\n",
       "      <td>118.7440</td>\n",
       "      <td>OUT045</td>\n",
       "      <td>2002</td>\n",
       "      <td>Small</td>\n",
       "      <td>Tier 2</td>\n",
       "      <td>Supermarket Type1</td>\n",
       "      <td>NaN</td>\n",
       "    </tr>\n",
       "    <tr>\n",
       "      <th>14202</th>\n",
       "      <td>FDJ26</td>\n",
       "      <td>15.300</td>\n",
       "      <td>Regular</td>\n",
       "      <td>0.064709</td>\n",
       "      <td>Canned</td>\n",
       "      <td>214.6218</td>\n",
       "      <td>OUT017</td>\n",
       "      <td>2007</td>\n",
       "      <td>Small</td>\n",
       "      <td>Tier 2</td>\n",
       "      <td>Supermarket Type1</td>\n",
       "      <td>NaN</td>\n",
       "    </tr>\n",
       "    <tr>\n",
       "      <th>14203</th>\n",
       "      <td>FDU37</td>\n",
       "      <td>9.500</td>\n",
       "      <td>Regular</td>\n",
       "      <td>0.104720</td>\n",
       "      <td>Canned</td>\n",
       "      <td>79.7960</td>\n",
       "      <td>OUT045</td>\n",
       "      <td>2002</td>\n",
       "      <td>Small</td>\n",
       "      <td>Tier 2</td>\n",
       "      <td>Supermarket Type1</td>\n",
       "      <td>NaN</td>\n",
       "    </tr>\n",
       "  </tbody>\n",
       "</table>\n",
       "<p>5681 rows × 12 columns</p>\n",
       "</div>"
      ],
      "text/plain": [
       "      Item_Identifier  Item_Weight Item_Fat_Content  Item_Visibility  \\\n",
       "8523            FDW58       20.750          Low Fat         0.007565   \n",
       "8524            FDW14        8.300          Regular         0.038428   \n",
       "8525            NCN55       14.600          Low Fat         0.099575   \n",
       "8526            FDQ58        7.315          Low Fat         0.015388   \n",
       "8527            FDY38       13.600          Regular         0.118599   \n",
       "...               ...          ...              ...              ...   \n",
       "14199           FDB58       10.500          Regular         0.013496   \n",
       "14200           FDD47        7.600          Regular         0.142991   \n",
       "14201           NCO17       10.000          Low Fat         0.073529   \n",
       "14202           FDJ26       15.300          Regular         0.064709   \n",
       "14203           FDU37        9.500          Regular         0.104720   \n",
       "\n",
       "                Item_Type  Item_MRP Outlet_Identifier  \\\n",
       "8523          Snack Foods  107.8622            OUT049   \n",
       "8524                Dairy   87.3198            OUT017   \n",
       "8525               Others  241.7538            OUT010   \n",
       "8526          Snack Foods  155.0340            OUT017   \n",
       "8527                Dairy  234.2300            OUT027   \n",
       "...                   ...       ...               ...   \n",
       "14199         Snack Foods  141.3154            OUT046   \n",
       "14200       Starchy Foods  169.1448            OUT018   \n",
       "14201  Health and Hygiene  118.7440            OUT045   \n",
       "14202              Canned  214.6218            OUT017   \n",
       "14203              Canned   79.7960            OUT045   \n",
       "\n",
       "       Outlet_Establishment_Year Outlet_Size Outlet_Location_Type  \\\n",
       "8523                        1999      Medium               Tier 1   \n",
       "8524                        2007       Small               Tier 2   \n",
       "8525                        1998      Medium               Tier 3   \n",
       "8526                        2007       Small               Tier 2   \n",
       "8527                        1985      Medium               Tier 3   \n",
       "...                          ...         ...                  ...   \n",
       "14199                       1997       Small               Tier 1   \n",
       "14200                       2009      Medium               Tier 3   \n",
       "14201                       2002       Small               Tier 2   \n",
       "14202                       2007       Small               Tier 2   \n",
       "14203                       2002       Small               Tier 2   \n",
       "\n",
       "             Outlet_Type  Item_Outlet_Sales  \n",
       "8523   Supermarket Type1                NaN  \n",
       "8524   Supermarket Type1                NaN  \n",
       "8525       Grocery Store                NaN  \n",
       "8526   Supermarket Type1                NaN  \n",
       "8527   Supermarket Type3                NaN  \n",
       "...                  ...                ...  \n",
       "14199  Supermarket Type1                NaN  \n",
       "14200  Supermarket Type2                NaN  \n",
       "14201  Supermarket Type1                NaN  \n",
       "14202  Supermarket Type1                NaN  \n",
       "14203  Supermarket Type1                NaN  \n",
       "\n",
       "[5681 rows x 12 columns]"
      ]
     },
     "execution_count": 10,
     "metadata": {},
     "output_type": "execute_result"
    }
   ],
   "source": [
    "df1"
   ]
  },
  {
   "cell_type": "code",
   "execution_count": 11,
   "id": "803a244c",
   "metadata": {},
   "outputs": [],
   "source": [
    "cols_to_change = df1.select_dtypes(include = ['object','float64','int64']).columns\n",
    "\n",
    "for col in cols_to_change:\n",
    "        df1[col] = df1[col].astype('category')\n",
    "from sklearn import preprocessing\n",
    "cols_to_change = df1.select_dtypes(include = ['category']).columns\n",
    "\n",
    "label_encoder = preprocessing.LabelEncoder()\n",
    "\n",
    "for col in cols_to_change:\n",
    "    df1[col]=label_encoder.fit_transform(df1[col])"
   ]
  },
  {
   "cell_type": "code",
   "execution_count": 12,
   "id": "56cbc4de",
   "metadata": {},
   "outputs": [],
   "source": [
    "df = df.dropna()"
   ]
  },
  {
   "cell_type": "code",
   "execution_count": 13,
   "id": "efdcedc1",
   "metadata": {},
   "outputs": [
    {
     "data": {
      "text/plain": [
       "Item_Identifier              0\n",
       "Item_Weight                  0\n",
       "Item_Fat_Content             0\n",
       "Item_Visibility              0\n",
       "Item_Type                    0\n",
       "Item_MRP                     0\n",
       "Outlet_Identifier            0\n",
       "Outlet_Establishment_Year    0\n",
       "Outlet_Size                  0\n",
       "Outlet_Location_Type         0\n",
       "Outlet_Type                  0\n",
       "Item_Outlet_Sales            0\n",
       "dtype: int64"
      ]
     },
     "execution_count": 13,
     "metadata": {},
     "output_type": "execute_result"
    }
   ],
   "source": [
    "df.isnull().sum()"
   ]
  },
  {
   "cell_type": "code",
   "execution_count": 14,
   "id": "1c09a76c",
   "metadata": {},
   "outputs": [],
   "source": [
    "cols_to_change = df.select_dtypes(include = ['object','float64','int64']).columns\n",
    "\n",
    "for col in cols_to_change:\n",
    "        df[col] = df[col].astype('category')"
   ]
  },
  {
   "cell_type": "code",
   "execution_count": 15,
   "id": "28f0d474",
   "metadata": {},
   "outputs": [],
   "source": [
    "from sklearn import preprocessing\n",
    "cols_to_change = df.select_dtypes(include = ['category']).columns\n",
    "\n",
    "label_encoder = preprocessing.LabelEncoder()\n",
    "\n",
    "for col in cols_to_change:\n",
    "    df[col]=label_encoder.fit_transform(df[col])"
   ]
  },
  {
   "cell_type": "markdown",
   "id": "f96cee88",
   "metadata": {},
   "source": [
    "# Data Visualization:"
   ]
  },
  {
   "cell_type": "code",
   "execution_count": 16,
   "id": "e3280396",
   "metadata": {},
   "outputs": [
    {
     "data": {
      "text/html": [
       "<style type=\"text/css\">\n",
       "#T_bf29e_row0_col0, #T_bf29e_row1_col1, #T_bf29e_row2_col2, #T_bf29e_row3_col3, #T_bf29e_row4_col4, #T_bf29e_row5_col5, #T_bf29e_row6_col6, #T_bf29e_row7_col7, #T_bf29e_row8_col8, #T_bf29e_row9_col9, #T_bf29e_row10_col10, #T_bf29e_row11_col11 {\n",
       "  background-color: #fcffa4;\n",
       "  color: #000000;\n",
       "}\n",
       "#T_bf29e_row0_col1, #T_bf29e_row2_col7, #T_bf29e_row5_col7, #T_bf29e_row7_col3 {\n",
       "  background-color: #0a0722;\n",
       "  color: #f1f1f1;\n",
       "}\n",
       "#T_bf29e_row0_col2, #T_bf29e_row6_col1, #T_bf29e_row7_col1, #T_bf29e_row10_col1, #T_bf29e_row10_col7 {\n",
       "  background-color: #02020c;\n",
       "  color: #f1f1f1;\n",
       "}\n",
       "#T_bf29e_row0_col3, #T_bf29e_row3_col4 {\n",
       "  background-color: #110a30;\n",
       "  color: #f1f1f1;\n",
       "}\n",
       "#T_bf29e_row0_col4, #T_bf29e_row9_col0, #T_bf29e_row11_col0 {\n",
       "  background-color: #190c3e;\n",
       "  color: #f1f1f1;\n",
       "}\n",
       "#T_bf29e_row0_col5, #T_bf29e_row8_col1 {\n",
       "  background-color: #02010a;\n",
       "  color: #f1f1f1;\n",
       "}\n",
       "#T_bf29e_row0_col6, #T_bf29e_row1_col6 {\n",
       "  background-color: #982766;\n",
       "  color: #f1f1f1;\n",
       "}\n",
       "#T_bf29e_row0_col7, #T_bf29e_row6_col3 {\n",
       "  background-color: #060419;\n",
       "  color: #f1f1f1;\n",
       "}\n",
       "#T_bf29e_row0_col8, #T_bf29e_row2_col8, #T_bf29e_row3_col6, #T_bf29e_row4_col8 {\n",
       "  background-color: #87216b;\n",
       "  color: #f1f1f1;\n",
       "}\n",
       "#T_bf29e_row0_col9, #T_bf29e_row4_col6, #T_bf29e_row4_col9, #T_bf29e_row5_col6 {\n",
       "  background-color: #9b2964;\n",
       "  color: #f1f1f1;\n",
       "}\n",
       "#T_bf29e_row0_col10, #T_bf29e_row5_col10 {\n",
       "  background-color: #440a68;\n",
       "  color: #f1f1f1;\n",
       "}\n",
       "#T_bf29e_row0_col11, #T_bf29e_row1_col11 {\n",
       "  background-color: #1b0c41;\n",
       "  color: #f1f1f1;\n",
       "}\n",
       "#T_bf29e_row1_col0 {\n",
       "  background-color: #230c4c;\n",
       "  color: #f1f1f1;\n",
       "}\n",
       "#T_bf29e_row1_col2, #T_bf29e_row6_col0, #T_bf29e_row9_col7 {\n",
       "  background-color: #150b37;\n",
       "  color: #f1f1f1;\n",
       "}\n",
       "#T_bf29e_row1_col3, #T_bf29e_row4_col0 {\n",
       "  background-color: #120a32;\n",
       "  color: #f1f1f1;\n",
       "}\n",
       "#T_bf29e_row1_col4 {\n",
       "  background-color: #2f0a5b;\n",
       "  color: #f1f1f1;\n",
       "}\n",
       "#T_bf29e_row1_col5 {\n",
       "  background-color: #02020e;\n",
       "  color: #f1f1f1;\n",
       "}\n",
       "#T_bf29e_row1_col7 {\n",
       "  background-color: #08051d;\n",
       "  color: #f1f1f1;\n",
       "}\n",
       "#T_bf29e_row1_col8 {\n",
       "  background-color: #85216b;\n",
       "  color: #f1f1f1;\n",
       "}\n",
       "#T_bf29e_row1_col9, #T_bf29e_row2_col6, #T_bf29e_row2_col9, #T_bf29e_row5_col9 {\n",
       "  background-color: #9a2865;\n",
       "  color: #f1f1f1;\n",
       "}\n",
       "#T_bf29e_row1_col10 {\n",
       "  background-color: #420a68;\n",
       "  color: #f1f1f1;\n",
       "}\n",
       "#T_bf29e_row2_col0, #T_bf29e_row2_col1, #T_bf29e_row2_col4, #T_bf29e_row3_col1, #T_bf29e_row3_col5, #T_bf29e_row3_col7, #T_bf29e_row3_col11, #T_bf29e_row4_col2, #T_bf29e_row6_col9, #T_bf29e_row8_col5, #T_bf29e_row8_col10, #T_bf29e_row9_col5, #T_bf29e_row9_col6, #T_bf29e_row9_col8, #T_bf29e_row10_col3, #T_bf29e_row10_col5 {\n",
       "  background-color: #000004;\n",
       "  color: #f1f1f1;\n",
       "}\n",
       "#T_bf29e_row2_col3 {\n",
       "  background-color: #320a5e;\n",
       "  color: #f1f1f1;\n",
       "}\n",
       "#T_bf29e_row2_col5, #T_bf29e_row11_col3 {\n",
       "  background-color: #010106;\n",
       "  color: #f1f1f1;\n",
       "}\n",
       "#T_bf29e_row2_col10, #T_bf29e_row4_col10, #T_bf29e_row10_col8 {\n",
       "  background-color: #450a69;\n",
       "  color: #f1f1f1;\n",
       "}\n",
       "#T_bf29e_row2_col11, #T_bf29e_row4_col11, #T_bf29e_row6_col2, #T_bf29e_row6_col4, #T_bf29e_row7_col2, #T_bf29e_row8_col2, #T_bf29e_row8_col4, #T_bf29e_row10_col2 {\n",
       "  background-color: #1f0c48;\n",
       "  color: #f1f1f1;\n",
       "}\n",
       "#T_bf29e_row3_col0, #T_bf29e_row8_col9 {\n",
       "  background-color: #0d0829;\n",
       "  color: #f1f1f1;\n",
       "}\n",
       "#T_bf29e_row3_col2, #T_bf29e_row7_col10, #T_bf29e_row9_col11 {\n",
       "  background-color: #360961;\n",
       "  color: #f1f1f1;\n",
       "}\n",
       "#T_bf29e_row3_col8 {\n",
       "  background-color: #8d2369;\n",
       "  color: #f1f1f1;\n",
       "}\n",
       "#T_bf29e_row3_col9 {\n",
       "  background-color: #972766;\n",
       "  color: #f1f1f1;\n",
       "}\n",
       "#T_bf29e_row3_col10, #T_bf29e_row10_col0 {\n",
       "  background-color: #180c3c;\n",
       "  color: #f1f1f1;\n",
       "}\n",
       "#T_bf29e_row4_col1 {\n",
       "  background-color: #0c0826;\n",
       "  color: #f1f1f1;\n",
       "}\n",
       "#T_bf29e_row4_col3 {\n",
       "  background-color: #0e092b;\n",
       "  color: #f1f1f1;\n",
       "}\n",
       "#T_bf29e_row4_col5 {\n",
       "  background-color: #050417;\n",
       "  color: #f1f1f1;\n",
       "}\n",
       "#T_bf29e_row4_col7 {\n",
       "  background-color: #0b0724;\n",
       "  color: #f1f1f1;\n",
       "}\n",
       "#T_bf29e_row5_col0, #T_bf29e_row5_col3 {\n",
       "  background-color: #1c0c43;\n",
       "  color: #f1f1f1;\n",
       "}\n",
       "#T_bf29e_row5_col1 {\n",
       "  background-color: #07051b;\n",
       "  color: #f1f1f1;\n",
       "}\n",
       "#T_bf29e_row5_col2, #T_bf29e_row7_col4, #T_bf29e_row7_col11, #T_bf29e_row9_col4, #T_bf29e_row10_col4 {\n",
       "  background-color: #210c4a;\n",
       "  color: #f1f1f1;\n",
       "}\n",
       "#T_bf29e_row5_col4 {\n",
       "  background-color: #2d0b59;\n",
       "  color: #f1f1f1;\n",
       "}\n",
       "#T_bf29e_row5_col8 {\n",
       "  background-color: #88226a;\n",
       "  color: #f1f1f1;\n",
       "}\n",
       "#T_bf29e_row5_col11 {\n",
       "  background-color: #e25734;\n",
       "  color: #f1f1f1;\n",
       "}\n",
       "#T_bf29e_row6_col5, #T_bf29e_row7_col5 {\n",
       "  background-color: #010005;\n",
       "  color: #f1f1f1;\n",
       "}\n",
       "#T_bf29e_row6_col7, #T_bf29e_row9_col1 {\n",
       "  background-color: #030210;\n",
       "  color: #f1f1f1;\n",
       "}\n",
       "#T_bf29e_row6_col8 {\n",
       "  background-color: #e75e2e;\n",
       "  color: #f1f1f1;\n",
       "}\n",
       "#T_bf29e_row6_col10 {\n",
       "  background-color: #65156e;\n",
       "  color: #f1f1f1;\n",
       "}\n",
       "#T_bf29e_row6_col11 {\n",
       "  background-color: #64156e;\n",
       "  color: #f1f1f1;\n",
       "}\n",
       "#T_bf29e_row7_col0 {\n",
       "  background-color: #140b34;\n",
       "  color: #f1f1f1;\n",
       "}\n",
       "#T_bf29e_row7_col6 {\n",
       "  background-color: #932667;\n",
       "  color: #f1f1f1;\n",
       "}\n",
       "#T_bf29e_row7_col8, #T_bf29e_row9_col10 {\n",
       "  background-color: #d54a41;\n",
       "  color: #f1f1f1;\n",
       "}\n",
       "#T_bf29e_row7_col9 {\n",
       "  background-color: #a52c60;\n",
       "  color: #f1f1f1;\n",
       "}\n",
       "#T_bf29e_row8_col0, #T_bf29e_row9_col3 {\n",
       "  background-color: #160b39;\n",
       "  color: #f1f1f1;\n",
       "}\n",
       "#T_bf29e_row8_col3 {\n",
       "  background-color: #240c4f;\n",
       "  color: #f1f1f1;\n",
       "}\n",
       "#T_bf29e_row8_col6 {\n",
       "  background-color: #ed6925;\n",
       "  color: #f1f1f1;\n",
       "}\n",
       "#T_bf29e_row8_col7 {\n",
       "  background-color: #84206b;\n",
       "  color: #f1f1f1;\n",
       "}\n",
       "#T_bf29e_row8_col11 {\n",
       "  background-color: #09061f;\n",
       "  color: #f1f1f1;\n",
       "}\n",
       "#T_bf29e_row9_col2 {\n",
       "  background-color: #1e0c45;\n",
       "  color: #f1f1f1;\n",
       "}\n",
       "#T_bf29e_row10_col6 {\n",
       "  background-color: #b1325a;\n",
       "  color: #f1f1f1;\n",
       "}\n",
       "#T_bf29e_row10_col9 {\n",
       "  background-color: #f1731d;\n",
       "  color: #f1f1f1;\n",
       "}\n",
       "#T_bf29e_row10_col11 {\n",
       "  background-color: #b63458;\n",
       "  color: #f1f1f1;\n",
       "}\n",
       "#T_bf29e_row11_col1 {\n",
       "  background-color: #040314;\n",
       "  color: #f1f1f1;\n",
       "}\n",
       "#T_bf29e_row11_col2, #T_bf29e_row11_col4 {\n",
       "  background-color: #260c51;\n",
       "  color: #f1f1f1;\n",
       "}\n",
       "#T_bf29e_row11_col5 {\n",
       "  background-color: #d44842;\n",
       "  color: #f1f1f1;\n",
       "}\n",
       "#T_bf29e_row11_col6 {\n",
       "  background-color: #c73e4c;\n",
       "  color: #f1f1f1;\n",
       "}\n",
       "#T_bf29e_row11_col7 {\n",
       "  background-color: #10092d;\n",
       "  color: #f1f1f1;\n",
       "}\n",
       "#T_bf29e_row11_col8 {\n",
       "  background-color: #7a1d6d;\n",
       "  color: #f1f1f1;\n",
       "}\n",
       "#T_bf29e_row11_col9 {\n",
       "  background-color: #ab2f5e;\n",
       "  color: #f1f1f1;\n",
       "}\n",
       "#T_bf29e_row11_col10 {\n",
       "  background-color: #ca404a;\n",
       "  color: #f1f1f1;\n",
       "}\n",
       "</style>\n",
       "<table id=\"T_bf29e\">\n",
       "  <thead>\n",
       "    <tr>\n",
       "      <th class=\"blank level0\" >&nbsp;</th>\n",
       "      <th id=\"T_bf29e_level0_col0\" class=\"col_heading level0 col0\" >Item_Identifier</th>\n",
       "      <th id=\"T_bf29e_level0_col1\" class=\"col_heading level0 col1\" >Item_Weight</th>\n",
       "      <th id=\"T_bf29e_level0_col2\" class=\"col_heading level0 col2\" >Item_Fat_Content</th>\n",
       "      <th id=\"T_bf29e_level0_col3\" class=\"col_heading level0 col3\" >Item_Visibility</th>\n",
       "      <th id=\"T_bf29e_level0_col4\" class=\"col_heading level0 col4\" >Item_Type</th>\n",
       "      <th id=\"T_bf29e_level0_col5\" class=\"col_heading level0 col5\" >Item_MRP</th>\n",
       "      <th id=\"T_bf29e_level0_col6\" class=\"col_heading level0 col6\" >Outlet_Identifier</th>\n",
       "      <th id=\"T_bf29e_level0_col7\" class=\"col_heading level0 col7\" >Outlet_Establishment_Year</th>\n",
       "      <th id=\"T_bf29e_level0_col8\" class=\"col_heading level0 col8\" >Outlet_Size</th>\n",
       "      <th id=\"T_bf29e_level0_col9\" class=\"col_heading level0 col9\" >Outlet_Location_Type</th>\n",
       "      <th id=\"T_bf29e_level0_col10\" class=\"col_heading level0 col10\" >Outlet_Type</th>\n",
       "      <th id=\"T_bf29e_level0_col11\" class=\"col_heading level0 col11\" >Item_Outlet_Sales</th>\n",
       "    </tr>\n",
       "  </thead>\n",
       "  <tbody>\n",
       "    <tr>\n",
       "      <th id=\"T_bf29e_level0_row0\" class=\"row_heading level0 row0\" >Item_Identifier</th>\n",
       "      <td id=\"T_bf29e_row0_col0\" class=\"data row0 col0\" >1.000000</td>\n",
       "      <td id=\"T_bf29e_row0_col1\" class=\"data row0 col1\" >0.032226</td>\n",
       "      <td id=\"T_bf29e_row0_col2\" class=\"data row0 col2\" >-0.114660</td>\n",
       "      <td id=\"T_bf29e_row0_col3\" class=\"data row0 col3\" >-0.036141</td>\n",
       "      <td id=\"T_bf29e_row0_col4\" class=\"data row0 col4\" >-0.017973</td>\n",
       "      <td id=\"T_bf29e_row0_col5\" class=\"data row0 col5\" >0.014329</td>\n",
       "      <td id=\"T_bf29e_row0_col6\" class=\"data row0 col6\" >-0.008602</td>\n",
       "      <td id=\"T_bf29e_row0_col7\" class=\"data row0 col7\" >-0.014288</td>\n",
       "      <td id=\"T_bf29e_row0_col8\" class=\"data row0 col8\" >-0.002556</td>\n",
       "      <td id=\"T_bf29e_row0_col9\" class=\"data row0 col9\" >0.003656</td>\n",
       "      <td id=\"T_bf29e_row0_col10\" class=\"data row0 col10\" >-0.001178</td>\n",
       "      <td id=\"T_bf29e_row0_col11\" class=\"data row0 col11\" >0.005916</td>\n",
       "    </tr>\n",
       "    <tr>\n",
       "      <th id=\"T_bf29e_level0_row1\" class=\"row_heading level0 row1\" >Item_Weight</th>\n",
       "      <td id=\"T_bf29e_row1_col0\" class=\"data row1 col0\" >0.032226</td>\n",
       "      <td id=\"T_bf29e_row1_col1\" class=\"data row1 col1\" >1.000000</td>\n",
       "      <td id=\"T_bf29e_row1_col2\" class=\"data row1 col2\" >-0.028911</td>\n",
       "      <td id=\"T_bf29e_row1_col3\" class=\"data row1 col3\" >-0.028652</td>\n",
       "      <td id=\"T_bf29e_row1_col4\" class=\"data row1 col4\" >0.042353</td>\n",
       "      <td id=\"T_bf29e_row1_col5\" class=\"data row1 col5\" >0.022547</td>\n",
       "      <td id=\"T_bf29e_row1_col6\" class=\"data row1 col6\" >-0.007727</td>\n",
       "      <td id=\"T_bf29e_row1_col7\" class=\"data row1 col7\" >-0.005734</td>\n",
       "      <td id=\"T_bf29e_row1_col8\" class=\"data row1 col8\" >-0.011172</td>\n",
       "      <td id=\"T_bf29e_row1_col9\" class=\"data row1 col9\" >0.001113</td>\n",
       "      <td id=\"T_bf29e_row1_col10\" class=\"data row1 col10\" >-0.004803</td>\n",
       "      <td id=\"T_bf29e_row1_col11\" class=\"data row1 col11\" >0.008547</td>\n",
       "    </tr>\n",
       "    <tr>\n",
       "      <th id=\"T_bf29e_level0_row2\" class=\"row_heading level0 row2\" >Item_Fat_Content</th>\n",
       "      <td id=\"T_bf29e_row2_col0\" class=\"data row2 col0\" >-0.114660</td>\n",
       "      <td id=\"T_bf29e_row2_col1\" class=\"data row2 col1\" >-0.028911</td>\n",
       "      <td id=\"T_bf29e_row2_col2\" class=\"data row2 col2\" >1.000000</td>\n",
       "      <td id=\"T_bf29e_row2_col3\" class=\"data row2 col3\" >0.057838</td>\n",
       "      <td id=\"T_bf29e_row2_col4\" class=\"data row2 col4\" >-0.139434</td>\n",
       "      <td id=\"T_bf29e_row2_col5\" class=\"data row2 col5\" >0.006624</td>\n",
       "      <td id=\"T_bf29e_row2_col6\" class=\"data row2 col6\" >0.000764</td>\n",
       "      <td id=\"T_bf29e_row2_col7\" class=\"data row2 col7\" >0.002447</td>\n",
       "      <td id=\"T_bf29e_row2_col8\" class=\"data row2 col8\" >-0.001369</td>\n",
       "      <td id=\"T_bf29e_row2_col9\" class=\"data row2 col9\" >-0.001598</td>\n",
       "      <td id=\"T_bf29e_row2_col10\" class=\"data row2 col10\" >0.002199</td>\n",
       "      <td id=\"T_bf29e_row2_col11\" class=\"data row2 col11\" >0.019345</td>\n",
       "    </tr>\n",
       "    <tr>\n",
       "      <th id=\"T_bf29e_level0_row3\" class=\"row_heading level0 row3\" >Item_Visibility</th>\n",
       "      <td id=\"T_bf29e_row3_col0\" class=\"data row3 col0\" >-0.036141</td>\n",
       "      <td id=\"T_bf29e_row3_col1\" class=\"data row3 col1\" >-0.028652</td>\n",
       "      <td id=\"T_bf29e_row3_col2\" class=\"data row3 col2\" >0.057838</td>\n",
       "      <td id=\"T_bf29e_row3_col3\" class=\"data row3 col3\" >1.000000</td>\n",
       "      <td id=\"T_bf29e_row3_col4\" class=\"data row3 col4\" >-0.045376</td>\n",
       "      <td id=\"T_bf29e_row3_col5\" class=\"data row3 col5\" >-0.000739</td>\n",
       "      <td id=\"T_bf29e_row3_col6\" class=\"data row3 col6\" >-0.079555</td>\n",
       "      <td id=\"T_bf29e_row3_col7\" class=\"data row3 col7\" >-0.060777</td>\n",
       "      <td id=\"T_bf29e_row3_col8\" class=\"data row3 col8\" >0.023553</td>\n",
       "      <td id=\"T_bf29e_row3_col9\" class=\"data row3 col9\" >-0.018459</td>\n",
       "      <td id=\"T_bf29e_row3_col10\" class=\"data row3 col10\" >-0.129294</td>\n",
       "      <td id=\"T_bf29e_row3_col11\" class=\"data row3 col11\" >-0.118005</td>\n",
       "    </tr>\n",
       "    <tr>\n",
       "      <th id=\"T_bf29e_level0_row4\" class=\"row_heading level0 row4\" >Item_Type</th>\n",
       "      <td id=\"T_bf29e_row4_col0\" class=\"data row4 col0\" >-0.017973</td>\n",
       "      <td id=\"T_bf29e_row4_col1\" class=\"data row4 col1\" >0.042353</td>\n",
       "      <td id=\"T_bf29e_row4_col2\" class=\"data row4 col2\" >-0.139434</td>\n",
       "      <td id=\"T_bf29e_row4_col3\" class=\"data row4 col3\" >-0.045376</td>\n",
       "      <td id=\"T_bf29e_row4_col4\" class=\"data row4 col4\" >1.000000</td>\n",
       "      <td id=\"T_bf29e_row4_col5\" class=\"data row4 col5\" >0.038449</td>\n",
       "      <td id=\"T_bf29e_row4_col6\" class=\"data row4 col6\" >0.001656</td>\n",
       "      <td id=\"T_bf29e_row4_col7\" class=\"data row4 col7\" >0.006527</td>\n",
       "      <td id=\"T_bf29e_row4_col8\" class=\"data row4 col8\" >-0.000394</td>\n",
       "      <td id=\"T_bf29e_row4_col9\" class=\"data row4 col9\" >0.003084</td>\n",
       "      <td id=\"T_bf29e_row4_col10\" class=\"data row4 col10\" >0.003053</td>\n",
       "      <td id=\"T_bf29e_row4_col11\" class=\"data row4 col11\" >0.020094</td>\n",
       "    </tr>\n",
       "    <tr>\n",
       "      <th id=\"T_bf29e_level0_row5\" class=\"row_heading level0 row5\" >Item_MRP</th>\n",
       "      <td id=\"T_bf29e_row5_col0\" class=\"data row5 col0\" >0.014329</td>\n",
       "      <td id=\"T_bf29e_row5_col1\" class=\"data row5 col1\" >0.022547</td>\n",
       "      <td id=\"T_bf29e_row5_col2\" class=\"data row5 col2\" >0.006624</td>\n",
       "      <td id=\"T_bf29e_row5_col3\" class=\"data row5 col3\" >-0.000739</td>\n",
       "      <td id=\"T_bf29e_row5_col4\" class=\"data row5 col4\" >0.038449</td>\n",
       "      <td id=\"T_bf29e_row5_col5\" class=\"data row5 col5\" >1.000000</td>\n",
       "      <td id=\"T_bf29e_row5_col6\" class=\"data row5 col6\" >0.003005</td>\n",
       "      <td id=\"T_bf29e_row5_col7\" class=\"data row5 col7\" >0.003730</td>\n",
       "      <td id=\"T_bf29e_row5_col8\" class=\"data row5 col8\" >0.001457</td>\n",
       "      <td id=\"T_bf29e_row5_col9\" class=\"data row5 col9\" >0.000828</td>\n",
       "      <td id=\"T_bf29e_row5_col10\" class=\"data row5 col10\" >-0.001828</td>\n",
       "      <td id=\"T_bf29e_row5_col11\" class=\"data row5 col11\" >0.573191</td>\n",
       "    </tr>\n",
       "    <tr>\n",
       "      <th id=\"T_bf29e_level0_row6\" class=\"row_heading level0 row6\" >Outlet_Identifier</th>\n",
       "      <td id=\"T_bf29e_row6_col0\" class=\"data row6 col0\" >-0.008602</td>\n",
       "      <td id=\"T_bf29e_row6_col1\" class=\"data row6 col1\" >-0.007727</td>\n",
       "      <td id=\"T_bf29e_row6_col2\" class=\"data row6 col2\" >0.000764</td>\n",
       "      <td id=\"T_bf29e_row6_col3\" class=\"data row6 col3\" >-0.079555</td>\n",
       "      <td id=\"T_bf29e_row6_col4\" class=\"data row6 col4\" >0.001656</td>\n",
       "      <td id=\"T_bf29e_row6_col5\" class=\"data row6 col5\" >0.003005</td>\n",
       "      <td id=\"T_bf29e_row6_col6\" class=\"data row6 col6\" >1.000000</td>\n",
       "      <td id=\"T_bf29e_row6_col7\" class=\"data row6 col7\" >-0.030969</td>\n",
       "      <td id=\"T_bf29e_row6_col8\" class=\"data row6 col8\" >0.423653</td>\n",
       "      <td id=\"T_bf29e_row6_col9\" class=\"data row6 col9\" >-0.716176</td>\n",
       "      <td id=\"T_bf29e_row6_col10\" class=\"data row6 col10\" >0.099873</td>\n",
       "      <td id=\"T_bf29e_row6_col11\" class=\"data row6 col11\" >0.200320</td>\n",
       "    </tr>\n",
       "    <tr>\n",
       "      <th id=\"T_bf29e_level0_row7\" class=\"row_heading level0 row7\" >Outlet_Establishment_Year</th>\n",
       "      <td id=\"T_bf29e_row7_col0\" class=\"data row7 col0\" >-0.014288</td>\n",
       "      <td id=\"T_bf29e_row7_col1\" class=\"data row7 col1\" >-0.005734</td>\n",
       "      <td id=\"T_bf29e_row7_col2\" class=\"data row7 col2\" >0.002447</td>\n",
       "      <td id=\"T_bf29e_row7_col3\" class=\"data row7 col3\" >-0.060777</td>\n",
       "      <td id=\"T_bf29e_row7_col4\" class=\"data row7 col4\" >0.006527</td>\n",
       "      <td id=\"T_bf29e_row7_col5\" class=\"data row7 col5\" >0.003730</td>\n",
       "      <td id=\"T_bf29e_row7_col6\" class=\"data row7 col6\" >-0.030969</td>\n",
       "      <td id=\"T_bf29e_row7_col7\" class=\"data row7 col7\" >1.000000</td>\n",
       "      <td id=\"T_bf29e_row7_col8\" class=\"data row7 col8\" >0.323459</td>\n",
       "      <td id=\"T_bf29e_row7_col9\" class=\"data row7 col9\" >0.042005</td>\n",
       "      <td id=\"T_bf29e_row7_col10\" class=\"data row7 col10\" >-0.040040</td>\n",
       "      <td id=\"T_bf29e_row7_col11\" class=\"data row7 col11\" >0.024477</td>\n",
       "    </tr>\n",
       "    <tr>\n",
       "      <th id=\"T_bf29e_level0_row8\" class=\"row_heading level0 row8\" >Outlet_Size</th>\n",
       "      <td id=\"T_bf29e_row8_col0\" class=\"data row8 col0\" >-0.002556</td>\n",
       "      <td id=\"T_bf29e_row8_col1\" class=\"data row8 col1\" >-0.011172</td>\n",
       "      <td id=\"T_bf29e_row8_col2\" class=\"data row8 col2\" >-0.001369</td>\n",
       "      <td id=\"T_bf29e_row8_col3\" class=\"data row8 col3\" >0.023553</td>\n",
       "      <td id=\"T_bf29e_row8_col4\" class=\"data row8 col4\" >-0.000394</td>\n",
       "      <td id=\"T_bf29e_row8_col5\" class=\"data row8 col5\" >0.001457</td>\n",
       "      <td id=\"T_bf29e_row8_col6\" class=\"data row8 col6\" >0.423653</td>\n",
       "      <td id=\"T_bf29e_row8_col7\" class=\"data row8 col7\" >0.323459</td>\n",
       "      <td id=\"T_bf29e_row8_col8\" class=\"data row8 col8\" >1.000000</td>\n",
       "      <td id=\"T_bf29e_row8_col9\" class=\"data row8 col9\" >-0.590686</td>\n",
       "      <td id=\"T_bf29e_row8_col10\" class=\"data row8 col10\" >-0.260467</td>\n",
       "      <td id=\"T_bf29e_row8_col11\" class=\"data row8 col11\" >-0.055843</td>\n",
       "    </tr>\n",
       "    <tr>\n",
       "      <th id=\"T_bf29e_level0_row9\" class=\"row_heading level0 row9\" >Outlet_Location_Type</th>\n",
       "      <td id=\"T_bf29e_row9_col0\" class=\"data row9 col0\" >0.003656</td>\n",
       "      <td id=\"T_bf29e_row9_col1\" class=\"data row9 col1\" >0.001113</td>\n",
       "      <td id=\"T_bf29e_row9_col2\" class=\"data row9 col2\" >-0.001598</td>\n",
       "      <td id=\"T_bf29e_row9_col3\" class=\"data row9 col3\" >-0.018459</td>\n",
       "      <td id=\"T_bf29e_row9_col4\" class=\"data row9 col4\" >0.003084</td>\n",
       "      <td id=\"T_bf29e_row9_col5\" class=\"data row9 col5\" >0.000828</td>\n",
       "      <td id=\"T_bf29e_row9_col6\" class=\"data row9 col6\" >-0.716176</td>\n",
       "      <td id=\"T_bf29e_row9_col7\" class=\"data row9 col7\" >0.042005</td>\n",
       "      <td id=\"T_bf29e_row9_col8\" class=\"data row9 col8\" >-0.590686</td>\n",
       "      <td id=\"T_bf29e_row9_col9\" class=\"data row9 col9\" >1.000000</td>\n",
       "      <td id=\"T_bf29e_row9_col10\" class=\"data row9 col10\" >0.467219</td>\n",
       "      <td id=\"T_bf29e_row9_col11\" class=\"data row9 col11\" >0.074671</td>\n",
       "    </tr>\n",
       "    <tr>\n",
       "      <th id=\"T_bf29e_level0_row10\" class=\"row_heading level0 row10\" >Outlet_Type</th>\n",
       "      <td id=\"T_bf29e_row10_col0\" class=\"data row10 col0\" >-0.001178</td>\n",
       "      <td id=\"T_bf29e_row10_col1\" class=\"data row10 col1\" >-0.004803</td>\n",
       "      <td id=\"T_bf29e_row10_col2\" class=\"data row10 col2\" >0.002199</td>\n",
       "      <td id=\"T_bf29e_row10_col3\" class=\"data row10 col3\" >-0.129294</td>\n",
       "      <td id=\"T_bf29e_row10_col4\" class=\"data row10 col4\" >0.003053</td>\n",
       "      <td id=\"T_bf29e_row10_col5\" class=\"data row10 col5\" >-0.001828</td>\n",
       "      <td id=\"T_bf29e_row10_col6\" class=\"data row10 col6\" >0.099873</td>\n",
       "      <td id=\"T_bf29e_row10_col7\" class=\"data row10 col7\" >-0.040040</td>\n",
       "      <td id=\"T_bf29e_row10_col8\" class=\"data row10 col8\" >-0.260467</td>\n",
       "      <td id=\"T_bf29e_row10_col9\" class=\"data row10 col9\" >0.467219</td>\n",
       "      <td id=\"T_bf29e_row10_col10\" class=\"data row10 col10\" >1.000000</td>\n",
       "      <td id=\"T_bf29e_row10_col11\" class=\"data row10 col11\" >0.423720</td>\n",
       "    </tr>\n",
       "    <tr>\n",
       "      <th id=\"T_bf29e_level0_row11\" class=\"row_heading level0 row11\" >Item_Outlet_Sales</th>\n",
       "      <td id=\"T_bf29e_row11_col0\" class=\"data row11 col0\" >0.005916</td>\n",
       "      <td id=\"T_bf29e_row11_col1\" class=\"data row11 col1\" >0.008547</td>\n",
       "      <td id=\"T_bf29e_row11_col2\" class=\"data row11 col2\" >0.019345</td>\n",
       "      <td id=\"T_bf29e_row11_col3\" class=\"data row11 col3\" >-0.118005</td>\n",
       "      <td id=\"T_bf29e_row11_col4\" class=\"data row11 col4\" >0.020094</td>\n",
       "      <td id=\"T_bf29e_row11_col5\" class=\"data row11 col5\" >0.573191</td>\n",
       "      <td id=\"T_bf29e_row11_col6\" class=\"data row11 col6\" >0.200320</td>\n",
       "      <td id=\"T_bf29e_row11_col7\" class=\"data row11 col7\" >0.024477</td>\n",
       "      <td id=\"T_bf29e_row11_col8\" class=\"data row11 col8\" >-0.055843</td>\n",
       "      <td id=\"T_bf29e_row11_col9\" class=\"data row11 col9\" >0.074671</td>\n",
       "      <td id=\"T_bf29e_row11_col10\" class=\"data row11 col10\" >0.423720</td>\n",
       "      <td id=\"T_bf29e_row11_col11\" class=\"data row11 col11\" >1.000000</td>\n",
       "    </tr>\n",
       "  </tbody>\n",
       "</table>\n"
      ],
      "text/plain": [
       "<pandas.io.formats.style.Styler at 0x1de4896a700>"
      ]
     },
     "execution_count": 16,
     "metadata": {},
     "output_type": "execute_result"
    }
   ],
   "source": [
    "corr = df.corr()\n",
    "corr.style.background_gradient(cmap=\"inferno\")"
   ]
  },
  {
   "cell_type": "code",
   "execution_count": 17,
   "id": "9586db99",
   "metadata": {},
   "outputs": [
    {
     "data": {
      "image/png": "[encoded data removed]",
      "text/plain": [
       "<Figure size 432x288 with 1 Axes>"
      ]
     },
     "metadata": {},
     "output_type": "display_data"
    }
   ],
   "source": [
    "outlet_type_counts = df['Outlet_Type'].value_counts()\n",
    "plt.pie(outlet_type_counts, labels=outlet_type_counts.index, autopct='%1.1f%%')\n",
    "plt.title('Outlet Types')\n",
    "plt.axis('equal')\n",
    "plt.show()"
   ]
  },
  {
   "cell_type": "markdown",
   "id": "f93ef66e",
   "metadata": {},
   "source": [
    "This figure shows us Outlet types across the city type 1 is having 65.4% and the type 0  is having 12.7%"
   ]
  },
  {
   "cell_type": "code",
   "execution_count": 18,
   "id": "20f3d0fe",
   "metadata": {},
   "outputs": [
    {
     "data": {
      "image/png": "[encoded data removed]",
      "text/plain": [
       "<Figure size 432x288 with 1 Axes>"
      ]
     },
     "metadata": {
      "needs_background": "light"
     },
     "output_type": "display_data"
    }
   ],
   "source": [
    "plt.hist(df['Item_MRP'], bins=20,edgecolor=\"black\")\n",
    "plt.title('Item MRP Distribution')\n",
    "plt.xlabel('Item MRP')\n",
    "plt.ylabel('Count')\n",
    "plt.show()"
   ]
  },
  {
   "cell_type": "markdown",
   "id": "ae46412a",
   "metadata": {},
   "source": [
    "Distribution of Item MRP all over the stores in the country which shows us the price range between 20000$ to 50000$ have the high density when compared to all other Price ranges"
   ]
  },
  {
   "cell_type": "code",
   "execution_count": 19,
   "id": "dcac68d4",
   "metadata": {},
   "outputs": [
    {
     "data": {
      "image/png": "[encoded data removed]",
      "text/plain": [
       "<Figure size 432x288 with 1 Axes>"
      ]
     },
     "metadata": {
      "needs_background": "light"
     },
     "output_type": "display_data"
    }
   ],
   "source": [
    "item_type_counts = df['Item_Type'].value_counts()\n",
    "plt.bar(range(len(item_type_counts)), item_type_counts.values, label='Item Type', color='blue')\n",
    "plt.xticks(range(len(item_type_counts)), item_type_counts.index, rotation=90)\n",
    "plt.title('Item Type Distribution')\n",
    "plt.xlabel('Item Type')\n",
    "plt.ylabel('Count')\n",
    "plt.legend()\n",
    "plt.show()"
   ]
  },
  {
   "cell_type": "markdown",
   "id": "e447f6b3",
   "metadata": {},
   "source": [
    "The Above Bar graph shows us the position of the Item type by there counts the item 6 is leading with above 1200 counts across the stores"
   ]
  },
  {
   "cell_type": "code",
   "execution_count": 20,
   "id": "32fc53d3",
   "metadata": {},
   "outputs": [
    {
     "data": {
      "image/png": "[encoded data removed]",
      "text/plain": [
       "<Figure size 432x288 with 1 Axes>"
      ]
     },
     "metadata": {
      "needs_background": "light"
     },
     "output_type": "display_data"
    }
   ],
   "source": [
    "outlet_counts = df['Outlet_Identifier'].value_counts()\n",
    "plt.bar(range(len(outlet_counts)), outlet_counts.values)\n",
    "plt.xticks(range(len(outlet_counts)), outlet_counts.index, rotation=90)\n",
    "plt.title('Outlet Identifier Distribution')\n",
    "plt.xlabel('Outlet Identifier')\n",
    "plt.ylabel('Count')\n",
    "plt.show()"
   ]
  },
  {
   "cell_type": "markdown",
   "id": "2bb962cd",
   "metadata": {},
   "source": [
    "The plot shows that there are 10 outlet identifiers in the dataset, with the identifier \"OUT027\" having the highest count, followed by \"OUT013\" and \"OUT046\". The other identifiers have a relatively lower count."
   ]
  },
  {
   "cell_type": "code",
   "execution_count": 21,
   "id": "d045b206",
   "metadata": {},
   "outputs": [],
   "source": [
    "\n",
    "x = df.iloc[:,[5,6,10]]\n",
    "y = df.iloc[:,[-1]]\n",
    "x1 = df1.iloc[:,[5,6,10]]\n",
    "y1 = df1.iloc[:,[-1]]"
   ]
  },
  {
   "cell_type": "code",
   "execution_count": 22,
   "id": "05917027",
   "metadata": {},
   "outputs": [],
   "source": [
    "scaler = StandardScaler()\n",
    "x = scaler.fit_transform(x)"
   ]
  },
  {
   "cell_type": "markdown",
   "id": "fbe7ffcd",
   "metadata": {},
   "source": [
    "# Model Building:\n",
    "\n",
    "# Linear Regression:"
   ]
  },
  {
   "cell_type": "code",
   "execution_count": 23,
   "id": "79ebb4a4",
   "metadata": {},
   "outputs": [
    {
     "data": {
      "text/plain": [
       "((5966, 3), (2557, 3), (5966, 1), (2557, 1))"
      ]
     },
     "execution_count": 23,
     "metadata": {},
     "output_type": "execute_result"
    }
   ],
   "source": [
    "x_train,x_test,y_train,y_test = train_test_split(x,y,train_size=0.7,random_state=42)\n",
    "x_train.shape,x_test.shape,y_train.shape,y_test.shape"
   ]
  },
  {
   "cell_type": "code",
   "execution_count": 24,
   "id": "ff14e343",
   "metadata": {},
   "outputs": [
    {
     "data": {
      "text/plain": [
       "0.5275664571221071"
      ]
     },
     "execution_count": 24,
     "metadata": {},
     "output_type": "execute_result"
    }
   ],
   "source": [
    "model = LinearRegression()\n",
    "S = model.fit(x_train,y_train)\n",
    "score = S.score(x_train,y_train)\n",
    "score"
   ]
  },
  {
   "cell_type": "code",
   "execution_count": 25,
   "id": "a22db03e",
   "metadata": {},
   "outputs": [
    {
     "name": "stdout",
     "output_type": "stream",
     "text": [
      "coefficient of determination: 0.5275664571221071\n",
      "intercept: [1525.27136268]\n",
      "slope: [[530.27055858 142.49370114 370.59845151]]\n"
     ]
    }
   ],
   "source": [
    "print('coefficient of determination:', score)\n",
    "print('intercept:', S.intercept_)\n",
    "print('slope:', S.coef_)"
   ]
  },
  {
   "cell_type": "code",
   "execution_count": 26,
   "id": "6682771a",
   "metadata": {},
   "outputs": [
    {
     "name": "stdout",
     "output_type": "stream",
     "text": [
      "predicted response:\n",
      "[[ 666.39196654]\n",
      " [ 757.80740535]\n",
      " [ 802.65306949]\n",
      " ...\n",
      " [1241.5129615 ]\n",
      " [1226.19403185]\n",
      " [2250.33307116]]\n"
     ]
    }
   ],
   "source": [
    "y_pred = model.predict(x_test)\n",
    "print('predicted response:', y_pred, sep='\\n')"
   ]
  },
  {
   "cell_type": "code",
   "execution_count": 27,
   "id": "1b6db894",
   "metadata": {},
   "outputs": [
    {
     "name": "stdout",
     "output_type": "stream",
     "text": [
      "378858.749333904 489.5955270151677 615.5150277076133\n"
     ]
    }
   ],
   "source": [
    "from sklearn.metrics import mean_squared_error,mean_absolute_error\n",
    "MSE=mean_squared_error(y_test, y_pred)\n",
    "MAE=mean_absolute_error(y_test,y_pred)\n",
    "RMSE = mean_squared_error(y_test, y_pred, squared=False)\n",
    "print(MSE, MAE, RMSE)"
   ]
  },
  {
   "cell_type": "markdown",
   "id": "29e6f9b6",
   "metadata": {},
   "source": [
    "Therefore, a higher R-squared score indicates a better fit of the linear regression model to the training data. However, it is important to note that a high R-squared score does not necessarily mean that the model will perform well on new or unseen data. Therefore, it is always important to evaluate the model on a separate test dataset to assess its performance on new data."
   ]
  },
  {
   "cell_type": "markdown",
   "id": "4043973b",
   "metadata": {},
   "source": [
    "# Random Forest with Bagging Technique:"
   ]
  },
  {
   "cell_type": "code",
   "execution_count": 28,
   "id": "e48edaef",
   "metadata": {},
   "outputs": [
    {
     "name": "stdout",
     "output_type": "stream",
     "text": [
      "R-Square: 0.549 (0.008)\n"
     ]
    }
   ],
   "source": [
    "from sklearn.ensemble import RandomForestRegressor\n",
    "from numpy import mean\n",
    "from numpy import std\n",
    "model = RandomForestRegressor()\n",
    "kf = RepeatedKFold(n_splits=2,n_repeats=2,random_state=42)\n",
    "n_score1=cross_val_score(model,x,y,scoring=\"r2\",cv=kf,n_jobs=-1)\n",
    "print(\"R-Square: %.3f (%.3f)\" % (mean(n_score1),std(n_score1)))"
   ]
  },
  {
   "cell_type": "markdown",
   "id": "07761e17",
   "metadata": {},
   "source": [
    "Overall, an R-squared value of 0.550 suggests that the model has very little predictive power and is not a good fit for the data."
   ]
  },
  {
   "cell_type": "markdown",
   "id": "feb9e77b",
   "metadata": {},
   "source": [
    "# Boosting the model using Adaboost:"
   ]
  },
  {
   "cell_type": "code",
   "execution_count": 29,
   "id": "a76c4af7",
   "metadata": {},
   "outputs": [
    {
     "name": "stdout",
     "output_type": "stream",
     "text": [
      "R-Square: 0.621 (0.008)\n"
     ]
    }
   ],
   "source": [
    "from sklearn.ensemble import AdaBoostRegressor\n",
    "model = AdaBoostRegressor()\n",
    "kf = RepeatedKFold(n_splits=2,n_repeats=2,random_state=42)\n",
    "n_score2=cross_val_score(model,x,y,scoring=\"r2\",cv=kf,n_jobs=-1)\n",
    "print(\"R-Square: %.3f (%.3f)\" % (mean(n_score2),std(n_score2)))"
   ]
  },
  {
   "cell_type": "markdown",
   "id": "1f21a6ac",
   "metadata": {},
   "source": [
    "the model is a good fit for the data, although there is still a considerable amount of variation in the target variable that is not explained by the model."
   ]
  },
  {
   "cell_type": "markdown",
   "id": "eeb3a39c",
   "metadata": {},
   "source": [
    "# Imporving Model Performance Using Stacking:"
   ]
  },
  {
   "cell_type": "code",
   "execution_count": 30,
   "id": "7a4d365e",
   "metadata": {},
   "outputs": [],
   "source": [
    "from sklearn.tree import DecisionTreeRegressor\n",
    "from sklearn.neighbors import KNeighborsRegressor\n",
    "from sklearn.svm import SVR\n",
    "from sklearn.ensemble import StackingRegressor\n",
    "from sklearn.linear_model import LinearRegression\n",
    "\n",
    "def get_stacking():\n",
    "    level0 = list()\n",
    "    level0.append(('lr', LinearRegression()))\n",
    "    level0.append(('knn', KNeighborsRegressor()))\n",
    "    level0.append(('cart', DecisionTreeRegressor()))\n",
    "    level0.append(('svm', SVR()))\n",
    "   \n",
    "  \n",
    "    level1 = LinearRegression()\n",
    "    \n",
    "    model = StackingRegressor(estimators=level0, final_estimator=level1, cv=5)\n",
    "    return model"
   ]
  },
  {
   "cell_type": "code",
   "execution_count": 31,
   "id": "cf8ce7b7",
   "metadata": {},
   "outputs": [
    {
     "name": "stdout",
     "output_type": "stream",
     "text": [
      "R square Score: 0.620 (0.009)\n"
     ]
    }
   ],
   "source": [
    "model = get_stacking()\n",
    "kf = RepeatedKFold(n_splits=2,n_repeats=2,random_state=42)\n",
    "n_scores3 = cross_val_score(model, x,y, scoring='r2', cv=kf, n_jobs=-1)\n",
    "print('R square Score: %.3f (%.3f)' % (mean(n_scores3), std(n_scores3)))"
   ]
  },
  {
   "cell_type": "markdown",
   "id": "8af79061",
   "metadata": {},
   "source": [
    "Overall, an R-squared value of 0.620 is a good indication that the model has a strong predictive power and is a good fit for the data. However, it's important to note that R-squared alone does not provide a complete picture of model performance and other metrics such as mean squared error, mean absolute error, and root mean squared error should also be considered when evaluating the model's performance"
   ]
  },
  {
   "cell_type": "markdown",
   "id": "bbaeab63",
   "metadata": {},
   "source": [
    "# Decision Tree Regressor:"
   ]
  },
  {
   "cell_type": "code",
   "execution_count": 32,
   "id": "bca82ae8",
   "metadata": {},
   "outputs": [],
   "source": [
    "from sklearn.tree import DecisionTreeRegressor"
   ]
  },
  {
   "cell_type": "code",
   "execution_count": 33,
   "id": "02c15c72",
   "metadata": {},
   "outputs": [
    {
     "name": "stdout",
     "output_type": "stream",
     "text": [
      "Size of training dataset:  (5966, 3)\n",
      "Size of test dataset:  (2557, 3)\n"
     ]
    }
   ],
   "source": [
    "x_train, x_test,y_train,y_test= train_test_split(x,y,train_size=0.7,random_state=42)\n",
    "print('Size of training dataset: ', x_train.shape)\n",
    "print('Size of test dataset: ', x_test.shape)"
   ]
  },
  {
   "cell_type": "code",
   "execution_count": 34,
   "id": "4a8d28ae",
   "metadata": {},
   "outputs": [
    {
     "name": "stdout",
     "output_type": "stream",
     "text": [
      "R-Squared on train dataset=0.645159415458117\n",
      "R-Squared on test dataset=0.660544463892542\n"
     ]
    }
   ],
   "source": [
    "dtm = DecisionTreeRegressor(max_depth=7,min_samples_split=5,max_leaf_nodes=10,random_state=42)\n",
    "dtm.fit(x_train,y_train)\n",
    "print(\"R-Squared on train dataset={}\".format(dtm.score(x_train,y_train)))\n",
    "dtm.fit(x_test,y_test)\n",
    "print(\"R-Squared on test dataset={}\".format(dtm.score(x_test,y_test)))"
   ]
  },
  {
   "cell_type": "code",
   "execution_count": 52,
   "id": "af3ea7d7",
   "metadata": {},
   "outputs": [
    {
     "data": {
      "text/plain": [
       "2557"
      ]
     },
     "execution_count": 52,
     "metadata": {},
     "output_type": "execute_result"
    }
   ],
   "source": [
    "from sklearn.model_selection import KFold\n",
    "model = DecisionTreeRegressor(max_depth=7,min_samples_split=5,max_leaf_nodes=10,random_state=42)\n",
    "kfold = KFold(10)\n",
    "results = cross_val_score(model,x,y,cv=kfold,scoring=\"r2\")\n",
    "results.mean()\n",
    "s=model.fit(x1,y1)\n",
    "y_pred = s.predict(x1)\n",
    "y_pred.size"
   ]
  },
  {
   "cell_type": "markdown",
   "id": "e9389133",
   "metadata": {},
   "source": [
    "#R-Squared on train dataset=0.645159415458117: This means that the model explains about 64.5% of the variance in the target variable using the training data. In other words, the model captures a significant portion of the variability in the target variable, and is reasonably effective in making predictions on the data it was trained on.\n",
    "\n",
    " R-Squared on test dataset=0.660544463892542: This means that the model explains about 66.1% of the variance in the target variable on the test dataset. The fact that the R-squared value on the test dataset is comparable to that on the training dataset is a good indication that the model generalizes well to new, unseen data. This suggests that the model is likely to perform well in making predictions on new data."
   ]
  },
  {
   "cell_type": "markdown",
   "id": "512a4baa",
   "metadata": {},
   "source": [
    "# Random Forest Regressor:"
   ]
  },
  {
   "cell_type": "code",
   "execution_count": 49,
   "id": "cddf7624",
   "metadata": {},
   "outputs": [
    {
     "name": "stdout",
     "output_type": "stream",
     "text": [
      "R Squared : 0.56\n",
      "0.5498077877353171\n"
     ]
    }
   ],
   "source": [
    "from sklearn.ensemble import RandomForestRegressor\n",
    "from sklearn.model_selection import train_test_split\n",
    "from sklearn.metrics import r2_score\n",
    "X_train, X_test, y_train, y_test = train_test_split(x, y, test_size=0.2, random_state=42)\n",
    "rf_model = RandomForestRegressor(n_estimators=100, random_state=42)\n",
    "rf_model.fit(X_train, y_train)\n",
    "y_pred = rf_model.predict(X_test)\n",
    "r2 = r2_score(y_test, y_pred)\n",
    "print(\"R Squared : {:.2f}\".format(r2))\n",
    "model = RandomForestRegressor(n_estimators=100, random_state=42)\n",
    "kfold = KFold(10)\n",
    "results = cross_val_score(model,x,y,cv=kfold,scoring=\"r2\")\n",
    "print(results.mean())"
   ]
  },
  {
   "cell_type": "markdown",
   "id": "807966dd",
   "metadata": {},
   "source": [
    "An R² of 0.56 indicates that the model explains 56% of the variability in the data, and the remaining 44% is due to other factors not included in the model. This value can be interpreted as the strength of the relationship between the independent variable(s) and the dependent variable. A higher R² indicates a stronger relationship, while a lower R² suggests a weaker relationship."
   ]
  },
  {
   "cell_type": "markdown",
   "id": "ef073496",
   "metadata": {},
   "source": [
    "# Ada Boost Regressor:"
   ]
  },
  {
   "cell_type": "code",
   "execution_count": 37,
   "id": "48545296",
   "metadata": {},
   "outputs": [
    {
     "name": "stdout",
     "output_type": "stream",
     "text": [
      "R Squared : 0.63\n"
     ]
    }
   ],
   "source": [
    "X_train, X_test, y_train, y_test = train_test_split(x, y, test_size=0.2, random_state=42)\n",
    "ab = AdaBoostRegressor(n_estimators=50, random_state=42)\n",
    "ab.fit(X_train, y_train)\n",
    "y_pred = ab.predict(X_test)\n",
    "r2 = r2_score(y_test, y_pred)\n",
    "print(\"R Squared : {:.2f}\".format(r2))\n"
   ]
  },
  {
   "cell_type": "markdown",
   "id": "fa1db1dd",
   "metadata": {},
   "source": [
    " An R² of 0.64 indicates that the model explains 64% of the variability in the data, and the remaining 36% is due to other factors not included in the model. This value can be interpreted as the strength of the relationship between the independent variable(s) and the dependent variable."
   ]
  },
  {
   "cell_type": "code",
   "execution_count": 38,
   "id": "7c79157e",
   "metadata": {},
   "outputs": [
    {
     "data": {
      "image/png": "[encoded data removed]",
      "text/plain": [
       "<Figure size 1800x1200 with 1 Axes>"
      ]
     },
     "metadata": {
      "needs_background": "light"
     },
     "output_type": "display_data"
    }
   ],
   "source": [
    "from sklearn import tree\n",
    "feature_cols = [\"Item_Identifier\",\"Item_Weight\",\"Item_Fat_Content\",\"Item_Visibility\",\"Item_Type\",\"Item_MRP\",\"Outlet_Identifier\",\"Outlet_Establishment_Year\",\"Outlet_Size\",\"Outlet_Location_Type\",\"Outlet_Type\",\"Item_Outlet_Sales\"]\n",
    "fig, axes = plt.subplots(dpi=300)\n",
    "tree.plot_tree( dtm,feature_names = feature_cols,\n",
    "          filled = True);\n",
    "\n",
    "fig.savefig('Sales_regression_decisiontree.png')"
   ]
  },
  {
   "cell_type": "markdown",
   "id": "903d10d7",
   "metadata": {},
   "source": [
    "Replacing the null values with the prediction of my best model:"
   ]
  },
  {
   "cell_type": "code",
   "execution_count": 39,
   "id": "803a5dfe",
   "metadata": {},
   "outputs": [
    {
     "data": {
      "text/html": [
       "<div>\n",
       "<style scoped>\n",
       "    .dataframe tbody tr th:only-of-type {\n",
       "        vertical-align: middle;\n",
       "    }\n",
       "\n",
       "    .dataframe tbody tr th {\n",
       "        vertical-align: top;\n",
       "    }\n",
       "\n",
       "    .dataframe thead th {\n",
       "        text-align: right;\n",
       "    }\n",
       "</style>\n",
       "<table border=\"1\" class=\"dataframe\">\n",
       "  <thead>\n",
       "    <tr style=\"text-align: right;\">\n",
       "      <th></th>\n",
       "      <th>Item_Identifier</th>\n",
       "      <th>Item_Weight</th>\n",
       "      <th>Item_Fat_Content</th>\n",
       "      <th>Item_Visibility</th>\n",
       "      <th>Item_Type</th>\n",
       "      <th>Item_MRP</th>\n",
       "      <th>Outlet_Identifier</th>\n",
       "      <th>Outlet_Establishment_Year</th>\n",
       "      <th>Outlet_Size</th>\n",
       "      <th>Outlet_Location_Type</th>\n",
       "      <th>Outlet_Type</th>\n",
       "      <th>Item_Outlet_Sales</th>\n",
       "    </tr>\n",
       "  </thead>\n",
       "  <tbody>\n",
       "    <tr>\n",
       "      <th>8523</th>\n",
       "      <td>1103</td>\n",
       "      <td>404</td>\n",
       "      <td>0</td>\n",
       "      <td>65</td>\n",
       "      <td>13</td>\n",
       "      <td>1460</td>\n",
       "      <td>9</td>\n",
       "      <td>4</td>\n",
       "      <td>1</td>\n",
       "      <td>0</td>\n",
       "      <td>1</td>\n",
       "      <td>1133.451493</td>\n",
       "    </tr>\n",
       "    <tr>\n",
       "      <th>8524</th>\n",
       "      <td>1067</td>\n",
       "      <td>224</td>\n",
       "      <td>1</td>\n",
       "      <td>1713</td>\n",
       "      <td>4</td>\n",
       "      <td>965</td>\n",
       "      <td>2</td>\n",
       "      <td>7</td>\n",
       "      <td>2</td>\n",
       "      <td>1</td>\n",
       "      <td>1</td>\n",
       "      <td>701.775862</td>\n",
       "    </tr>\n",
       "    <tr>\n",
       "      <th>8525</th>\n",
       "      <td>1406</td>\n",
       "      <td>338</td>\n",
       "      <td>0</td>\n",
       "      <td>4046</td>\n",
       "      <td>11</td>\n",
       "      <td>4076</td>\n",
       "      <td>0</td>\n",
       "      <td>3</td>\n",
       "      <td>1</td>\n",
       "      <td>2</td>\n",
       "      <td>0</td>\n",
       "      <td>701.775862</td>\n",
       "    </tr>\n",
       "    <tr>\n",
       "      <th>8526</th>\n",
       "      <td>809</td>\n",
       "      <td>157</td>\n",
       "      <td>0</td>\n",
       "      <td>387</td>\n",
       "      <td>13</td>\n",
       "      <td>2522</td>\n",
       "      <td>2</td>\n",
       "      <td>7</td>\n",
       "      <td>2</td>\n",
       "      <td>1</td>\n",
       "      <td>1</td>\n",
       "      <td>2539.771429</td>\n",
       "    </tr>\n",
       "    <tr>\n",
       "      <th>8527</th>\n",
       "      <td>1184</td>\n",
       "      <td>328</td>\n",
       "      <td>1</td>\n",
       "      <td>4427</td>\n",
       "      <td>4</td>\n",
       "      <td>3972</td>\n",
       "      <td>5</td>\n",
       "      <td>0</td>\n",
       "      <td>1</td>\n",
       "      <td>2</td>\n",
       "      <td>3</td>\n",
       "      <td>2058.532033</td>\n",
       "    </tr>\n",
       "    <tr>\n",
       "      <th>...</th>\n",
       "      <td>...</td>\n",
       "      <td>...</td>\n",
       "      <td>...</td>\n",
       "      <td>...</td>\n",
       "      <td>...</td>\n",
       "      <td>...</td>\n",
       "      <td>...</td>\n",
       "      <td>...</td>\n",
       "      <td>...</td>\n",
       "      <td>...</td>\n",
       "      <td>...</td>\n",
       "      <td>...</td>\n",
       "    </tr>\n",
       "    <tr>\n",
       "      <th>11075</th>\n",
       "      <td>385</td>\n",
       "      <td>8</td>\n",
       "      <td>0</td>\n",
       "      <td>4413</td>\n",
       "      <td>3</td>\n",
       "      <td>3474</td>\n",
       "      <td>2</td>\n",
       "      <td>7</td>\n",
       "      <td>2</td>\n",
       "      <td>1</td>\n",
       "      <td>1</td>\n",
       "      <td>1425.659898</td>\n",
       "    </tr>\n",
       "    <tr>\n",
       "      <th>11076</th>\n",
       "      <td>572</td>\n",
       "      <td>286</td>\n",
       "      <td>0</td>\n",
       "      <td>4650</td>\n",
       "      <td>6</td>\n",
       "      <td>3258</td>\n",
       "      <td>9</td>\n",
       "      <td>4</td>\n",
       "      <td>1</td>\n",
       "      <td>0</td>\n",
       "      <td>1</td>\n",
       "      <td>2058.532033</td>\n",
       "    </tr>\n",
       "    <tr>\n",
       "      <th>11077</th>\n",
       "      <td>1112</td>\n",
       "      <td>86</td>\n",
       "      <td>1</td>\n",
       "      <td>4528</td>\n",
       "      <td>13</td>\n",
       "      <td>80</td>\n",
       "      <td>6</td>\n",
       "      <td>6</td>\n",
       "      <td>2</td>\n",
       "      <td>1</td>\n",
       "      <td>1</td>\n",
       "      <td>295.578171</td>\n",
       "    </tr>\n",
       "    <tr>\n",
       "      <th>11078</th>\n",
       "      <td>1352</td>\n",
       "      <td>296</td>\n",
       "      <td>0</td>\n",
       "      <td>2250</td>\n",
       "      <td>11</td>\n",
       "      <td>2705</td>\n",
       "      <td>5</td>\n",
       "      <td>0</td>\n",
       "      <td>1</td>\n",
       "      <td>2</td>\n",
       "      <td>3</td>\n",
       "      <td>1425.659898</td>\n",
       "    </tr>\n",
       "    <tr>\n",
       "      <th>11079</th>\n",
       "      <td>1241</td>\n",
       "      <td>301</td>\n",
       "      <td>1</td>\n",
       "      <td>4696</td>\n",
       "      <td>3</td>\n",
       "      <td>3783</td>\n",
       "      <td>2</td>\n",
       "      <td>7</td>\n",
       "      <td>2</td>\n",
       "      <td>1</td>\n",
       "      <td>1</td>\n",
       "      <td>2404.475248</td>\n",
       "    </tr>\n",
       "  </tbody>\n",
       "</table>\n",
       "<p>2557 rows × 12 columns</p>\n",
       "</div>"
      ],
      "text/plain": [
       "       Item_Identifier  Item_Weight  Item_Fat_Content  Item_Visibility  \\\n",
       "8523              1103          404                 0               65   \n",
       "8524              1067          224                 1             1713   \n",
       "8525              1406          338                 0             4046   \n",
       "8526               809          157                 0              387   \n",
       "8527              1184          328                 1             4427   \n",
       "...                ...          ...               ...              ...   \n",
       "11075              385            8                 0             4413   \n",
       "11076              572          286                 0             4650   \n",
       "11077             1112           86                 1             4528   \n",
       "11078             1352          296                 0             2250   \n",
       "11079             1241          301                 1             4696   \n",
       "\n",
       "       Item_Type  Item_MRP  Outlet_Identifier  Outlet_Establishment_Year  \\\n",
       "8523          13      1460                  9                          4   \n",
       "8524           4       965                  2                          7   \n",
       "8525          11      4076                  0                          3   \n",
       "8526          13      2522                  2                          7   \n",
       "8527           4      3972                  5                          0   \n",
       "...          ...       ...                ...                        ...   \n",
       "11075          3      3474                  2                          7   \n",
       "11076          6      3258                  9                          4   \n",
       "11077         13        80                  6                          6   \n",
       "11078         11      2705                  5                          0   \n",
       "11079          3      3783                  2                          7   \n",
       "\n",
       "       Outlet_Size  Outlet_Location_Type  Outlet_Type  Item_Outlet_Sales  \n",
       "8523             1                     0            1        1133.451493  \n",
       "8524             2                     1            1         701.775862  \n",
       "8525             1                     2            0         701.775862  \n",
       "8526             2                     1            1        2539.771429  \n",
       "8527             1                     2            3        2058.532033  \n",
       "...            ...                   ...          ...                ...  \n",
       "11075            2                     1            1        1425.659898  \n",
       "11076            1                     0            1        2058.532033  \n",
       "11077            2                     1            1         295.578171  \n",
       "11078            1                     2            3        1425.659898  \n",
       "11079            2                     1            1        2404.475248  \n",
       "\n",
       "[2557 rows x 12 columns]"
      ]
     },
     "execution_count": 39,
     "metadata": {},
     "output_type": "execute_result"
    }
   ],
   "source": [
    "y_pred = dtm.predict(x_test)\n",
    "df2 = df1[:2557]\n",
    "df2[\"Item_Outlet_Sales\"]=y_pred\n",
    "df2"
   ]
  },
  {
   "cell_type": "code",
   "execution_count": 40,
   "id": "68a5b314",
   "metadata": {},
   "outputs": [],
   "source": [
    "x1 = df2.iloc[:,[5,6,10]]\n",
    "y1 = df2.iloc[:,[-1]]\n",
    "scaler = StandardScaler()\n",
    "x1 = scaler.fit_transform(x1)"
   ]
  },
  {
   "cell_type": "code",
   "execution_count": 41,
   "id": "35b71686",
   "metadata": {},
   "outputs": [
    {
     "name": "stdout",
     "output_type": "stream",
     "text": [
      "Size of training dataset:  (1789, 3)\n",
      "Size of test dataset:  (768, 3)\n"
     ]
    }
   ],
   "source": [
    "x_train, x_test,y_train,y_test= train_test_split(x1,y1, train_size=0.7,random_state=40)\n",
    "print('Size of training dataset: ', x_train.shape)\n",
    "print('Size of test dataset: ', x_test.shape)"
   ]
  },
  {
   "cell_type": "code",
   "execution_count": 42,
   "id": "701ea872",
   "metadata": {},
   "outputs": [
    {
     "name": "stdout",
     "output_type": "stream",
     "text": [
      "R-Squared on train dataset=0.03233577739857063\n",
      "R-Squared on test dataset=0.04932952591821982\n"
     ]
    }
   ],
   "source": [
    "dtm = DecisionTreeRegressor(max_depth=7,min_samples_split=5,max_leaf_nodes=10,random_state=40)\n",
    "dtm.fit(x_train,y_train)\n",
    "print(\"R-Squared on train dataset={}\".format(dtm.score(x_train,y_train)))\n",
    "dtm.fit(x_test,y_test)\n",
    "print(\"R-Squared on test dataset={}\".format(dtm.score(x_test,y_test)))"
   ]
  },
  {
   "cell_type": "markdown",
   "id": "1c75d780",
   "metadata": {},
   "source": [
    "In this case, the R-squared on the train dataset is 0.0323, which means that only a small proportion (3.23%) of the variability in the dependent variable is explained by the independent variables in the model. The R-squared on the test dataset is slightly higher at 0.0493, but still indicates a poor fit. This means that the model is not able to capture the relationship between the independent and dependent variables in the data, and may not be useful for making accurate predictions or drawing meaningful conclusions."
   ]
  },
  {
   "cell_type": "code",
   "execution_count": 43,
   "id": "b70aa5f0",
   "metadata": {},
   "outputs": [
    {
     "data": {
      "text/plain": [
       "1500.435008    521\n",
       "1331.219056    118\n",
       "1698.200190     85\n",
       "1743.439222     22\n",
       "1826.365114      8\n",
       "295.578171       4\n",
       "2073.285607      4\n",
       "430.977401       3\n",
       "574.869278       3\n",
       "dtype: int64"
      ]
     },
     "execution_count": 43,
     "metadata": {},
     "output_type": "execute_result"
    }
   ],
   "source": [
    "y_pred = dtm.predict(x_test)\n",
    "ff = pd.DataFrame(y_pred)\n",
    "ff.value_counts()\n"
   ]
  },
  {
   "cell_type": "code",
   "execution_count": 44,
   "id": "bf64ee2d",
   "metadata": {},
   "outputs": [
    {
     "data": {
      "text/html": [
       "<div>\n",
       "<style scoped>\n",
       "    .dataframe tbody tr th:only-of-type {\n",
       "        vertical-align: middle;\n",
       "    }\n",
       "\n",
       "    .dataframe tbody tr th {\n",
       "        vertical-align: top;\n",
       "    }\n",
       "\n",
       "    .dataframe thead th {\n",
       "        text-align: right;\n",
       "    }\n",
       "</style>\n",
       "<table border=\"1\" class=\"dataframe\">\n",
       "  <thead>\n",
       "    <tr style=\"text-align: right;\">\n",
       "      <th></th>\n",
       "      <th>0</th>\n",
       "    </tr>\n",
       "  </thead>\n",
       "  <tbody>\n",
       "    <tr>\n",
       "      <th>0</th>\n",
       "      <td>1133.451493</td>\n",
       "    </tr>\n",
       "    <tr>\n",
       "      <th>1</th>\n",
       "      <td>701.775862</td>\n",
       "    </tr>\n",
       "    <tr>\n",
       "      <th>2</th>\n",
       "      <td>701.775862</td>\n",
       "    </tr>\n",
       "    <tr>\n",
       "      <th>3</th>\n",
       "      <td>2539.771429</td>\n",
       "    </tr>\n",
       "    <tr>\n",
       "      <th>4</th>\n",
       "      <td>2058.532033</td>\n",
       "    </tr>\n",
       "    <tr>\n",
       "      <th>...</th>\n",
       "      <td>...</td>\n",
       "    </tr>\n",
       "    <tr>\n",
       "      <th>2552</th>\n",
       "      <td>1425.659898</td>\n",
       "    </tr>\n",
       "    <tr>\n",
       "      <th>2553</th>\n",
       "      <td>2058.532033</td>\n",
       "    </tr>\n",
       "    <tr>\n",
       "      <th>2554</th>\n",
       "      <td>295.578171</td>\n",
       "    </tr>\n",
       "    <tr>\n",
       "      <th>2555</th>\n",
       "      <td>1425.659898</td>\n",
       "    </tr>\n",
       "    <tr>\n",
       "      <th>2556</th>\n",
       "      <td>2404.475248</td>\n",
       "    </tr>\n",
       "  </tbody>\n",
       "</table>\n",
       "<p>2557 rows × 1 columns</p>\n",
       "</div>"
      ],
      "text/plain": [
       "                0\n",
       "0     1133.451493\n",
       "1      701.775862\n",
       "2      701.775862\n",
       "3     2539.771429\n",
       "4     2058.532033\n",
       "...           ...\n",
       "2552  1425.659898\n",
       "2553  2058.532033\n",
       "2554   295.578171\n",
       "2555  1425.659898\n",
       "2556  2404.475248\n",
       "\n",
       "[2557 rows x 1 columns]"
      ]
     },
     "execution_count": 44,
     "metadata": {},
     "output_type": "execute_result"
    }
   ],
   "source": [
    "model = DecisionTreeRegressor()\n",
    "s = model.fit(x1,y1)\n",
    "y_pred = s.predict(x1)\n",
    "s1 = pd.DataFrame(y_pred)\n",
    "s1"
   ]
  },
  {
   "cell_type": "markdown",
   "id": "f6fedad2",
   "metadata": {},
   "source": [
    "This null values data set is especially for Prediction of test data based on the train data ,which is seperated from the main data set for validate the model.The above data Frame shows us the Predicted values of my best model."
   ]
  },
  {
   "cell_type": "markdown",
   "id": "ffe8a286",
   "metadata": {},
   "source": [
    "# Summary:"
   ]
  },
  {
   "cell_type": "markdown",
   "id": "278b01ac",
   "metadata": {},
   "source": [
    "# The baseline linear regression model I have built has an R2 score of 52%, which means that it explains 52% of the variance in the dependent variable using the independent variables. This indicates that the linear regression model is able to capture only 52% of the relationship between the independent and dependent variables in the dataset. This could be due to a number of factors, such as noisy or insufficient data, underfitting or using the wrong features.\n",
    "\n",
    "# On the other hand, the decision tree regressor model has an R2 score of 64%, which means that it explains 64% of the variance in the dependent variable using the independent variables. This indicates that the decision tree model is able to capture more of the relationship between the independent and dependent variables than the linear regression model. This could be because decision trees are more flexible and can capture non-linear relationships between variables, as well as interactions between variables.\n",
    "\n",
    "# Overall, the decision tree regressor model is a better fit for the data as it is able to explain more of the variance in the dependent variable than the baseline linear regression model. However, it is important to keep in mind that there may be other factors to consider when choosing a model, such as model complexity, interpretability, and computational efficiency."
   ]
  },
  {
   "cell_type": "code",
   "execution_count": null,
   "id": "45915457",
   "metadata": {},
   "outputs": [],
   "source": []
  },
  {
   "cell_type": "code",
   "execution_count": null,
   "id": "f16f2824",
   "metadata": {},
   "outputs": [],
   "source": []
  },
  {
   "cell_type": "code",
   "execution_count": null,
   "id": "39df9889",
   "metadata": {},
   "outputs": [],
   "source": []
  },
  {
   "cell_type": "code",
   "execution_count": null,
   "id": "3bff008e",
   "metadata": {},
   "outputs": [],
   "source": []
  }
 ],
 "metadata": {
  "kernelspec": {
   "display_name": "Python 3 (ipykernel)",
   "language": "python",
   "name": "python3"
  },
  "language_info": {
   "codemirror_mode": {
    "name": "ipython",
    "version": 3
   },
   "file_extension": ".py",
   "mimetype": "text/x-python",
   "name": "python",
   "nbconvert_exporter": "python",
   "pygments_lexer": "ipython3",
   "version": "3.9.12"
  }
 },
 "nbformat": 4,
 "nbformat_minor": 5
}
